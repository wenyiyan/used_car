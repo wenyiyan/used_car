{
 "cells": [
  {
   "cell_type": "markdown",
   "metadata": {},
   "source": [
    "## Gender Classification Of Names\n",
    "### Using Machine Learning To Detect/Predict Gender of Individuals From their Names\n",
    "+ Sklearn\n",
    "+ Pandas\n",
    "+ Text Extraction"
   ]
  },
  {
   "cell_type": "code",
   "execution_count": 1,
   "metadata": {},
   "outputs": [],
   "source": [
    "# EDA packages\n",
    "import pandas as pd\n",
    "import numpy as np\n"
   ]
  },
  {
   "cell_type": "code",
   "execution_count": 2,
   "metadata": {},
   "outputs": [],
   "source": [
    "# ML Packages\n",
    "from sklearn.feature_extraction.text import CountVectorizer\n",
    "from sklearn.feature_extraction import DictVectorizer\n",
    "#from sklearn.feature_extraction.text import TfidfVectorizer\n"
   ]
  },
  {
   "cell_type": "code",
   "execution_count": 3,
   "metadata": {},
   "outputs": [],
   "source": [
    "# Load our data\n",
    "df = pd.read_csv('names_dataset.csv')"
   ]
  },
  {
   "cell_type": "code",
   "execution_count": 4,
   "metadata": {},
   "outputs": [
    {
     "data": {
      "text/html": [
       "<div>\n",
       "<style scoped>\n",
       "    .dataframe tbody tr th:only-of-type {\n",
       "        vertical-align: middle;\n",
       "    }\n",
       "\n",
       "    .dataframe tbody tr th {\n",
       "        vertical-align: top;\n",
       "    }\n",
       "\n",
       "    .dataframe thead th {\n",
       "        text-align: right;\n",
       "    }\n",
       "</style>\n",
       "<table border=\"1\" class=\"dataframe\">\n",
       "  <thead>\n",
       "    <tr style=\"text-align: right;\">\n",
       "      <th></th>\n",
       "      <th>index</th>\n",
       "      <th>name</th>\n",
       "      <th>sex</th>\n",
       "    </tr>\n",
       "  </thead>\n",
       "  <tbody>\n",
       "    <tr>\n",
       "      <th>0</th>\n",
       "      <td>0</td>\n",
       "      <td>Mary</td>\n",
       "      <td>F</td>\n",
       "    </tr>\n",
       "    <tr>\n",
       "      <th>1</th>\n",
       "      <td>1</td>\n",
       "      <td>Anna</td>\n",
       "      <td>F</td>\n",
       "    </tr>\n",
       "    <tr>\n",
       "      <th>2</th>\n",
       "      <td>2</td>\n",
       "      <td>Emma</td>\n",
       "      <td>F</td>\n",
       "    </tr>\n",
       "    <tr>\n",
       "      <th>3</th>\n",
       "      <td>3</td>\n",
       "      <td>Elizabeth</td>\n",
       "      <td>F</td>\n",
       "    </tr>\n",
       "    <tr>\n",
       "      <th>4</th>\n",
       "      <td>4</td>\n",
       "      <td>Minnie</td>\n",
       "      <td>F</td>\n",
       "    </tr>\n",
       "  </tbody>\n",
       "</table>\n",
       "</div>"
      ],
      "text/plain": [
       "   index       name sex\n",
       "0      0       Mary   F\n",
       "1      1       Anna   F\n",
       "2      2       Emma   F\n",
       "3      3  Elizabeth   F\n",
       "4      4     Minnie   F"
      ]
     },
     "execution_count": 4,
     "metadata": {},
     "output_type": "execute_result"
    }
   ],
   "source": [
    "df.head()"
   ]
  },
  {
   "cell_type": "code",
   "execution_count": 5,
   "metadata": {},
   "outputs": [
    {
     "data": {
      "text/plain": [
       "285075"
      ]
     },
     "execution_count": 5,
     "metadata": {},
     "output_type": "execute_result"
    }
   ],
   "source": [
    "df.size"
   ]
  },
  {
   "cell_type": "code",
   "execution_count": 6,
   "metadata": {},
   "outputs": [
    {
     "data": {
      "text/plain": [
       "Index([u'index', u'name', u'sex'], dtype='object')"
      ]
     },
     "execution_count": 6,
     "metadata": {},
     "output_type": "execute_result"
    }
   ],
   "source": [
    "# Data Cleaning\n",
    "# Checking for column name consistency\n",
    "df.columns"
   ]
  },
  {
   "cell_type": "code",
   "execution_count": 7,
   "metadata": {},
   "outputs": [
    {
     "data": {
      "text/plain": [
       "index     int64\n",
       "name     object\n",
       "sex      object\n",
       "dtype: object"
      ]
     },
     "execution_count": 7,
     "metadata": {},
     "output_type": "execute_result"
    }
   ],
   "source": [
    "# Data Types\n",
    "df.dtypes"
   ]
  },
  {
   "cell_type": "code",
   "execution_count": 8,
   "metadata": {},
   "outputs": [
    {
     "data": {
      "text/plain": [
       "index    0\n",
       "name     0\n",
       "sex      0\n",
       "dtype: int64"
      ]
     },
     "execution_count": 8,
     "metadata": {},
     "output_type": "execute_result"
    }
   ],
   "source": [
    "# Checking for Missing Values\n",
    "df.isnull().isnull().sum()"
   ]
  },
  {
   "cell_type": "code",
   "execution_count": 9,
   "metadata": {},
   "outputs": [
    {
     "data": {
      "text/plain": [
       "181800"
      ]
     },
     "execution_count": 9,
     "metadata": {},
     "output_type": "execute_result"
    }
   ],
   "source": [
    "# Number of Female Names\n",
    "df[df.sex == 'F'].size"
   ]
  },
  {
   "cell_type": "code",
   "execution_count": 10,
   "metadata": {},
   "outputs": [
    {
     "data": {
      "text/plain": [
       "103275"
      ]
     },
     "execution_count": 10,
     "metadata": {},
     "output_type": "execute_result"
    }
   ],
   "source": [
    "# Number of Male Names\n",
    "df[df.sex == 'M'].size"
   ]
  },
  {
   "cell_type": "code",
   "execution_count": 11,
   "metadata": {},
   "outputs": [],
   "source": [
    "df_names = df"
   ]
  },
  {
   "cell_type": "code",
   "execution_count": 12,
   "metadata": {
    "scrolled": true
   },
   "outputs": [],
   "source": [
    "# Replacing All F and M with 0 and 1 respectively\n",
    "df_names.sex.replace({'F':0,'M':1},inplace=True)"
   ]
  },
  {
   "cell_type": "code",
   "execution_count": 13,
   "metadata": {},
   "outputs": [
    {
     "data": {
      "text/plain": [
       "array([0, 1])"
      ]
     },
     "execution_count": 13,
     "metadata": {},
     "output_type": "execute_result"
    }
   ],
   "source": [
    "df_names.sex.unique()"
   ]
  },
  {
   "cell_type": "code",
   "execution_count": 14,
   "metadata": {},
   "outputs": [
    {
     "data": {
      "text/plain": [
       "index     int64\n",
       "name     object\n",
       "sex       int64\n",
       "dtype: object"
      ]
     },
     "execution_count": 14,
     "metadata": {},
     "output_type": "execute_result"
    }
   ],
   "source": [
    "df_names.dtypes"
   ]
  },
  {
   "cell_type": "code",
   "execution_count": 15,
   "metadata": {},
   "outputs": [],
   "source": [
    "Xfeatures =df_names['name']"
   ]
  },
  {
   "cell_type": "code",
   "execution_count": 16,
   "metadata": {},
   "outputs": [],
   "source": [
    "# Feature Extraction \n",
    "cv = CountVectorizer()\n",
    "X = cv.fit_transform(Xfeatures)"
   ]
  },
  {
   "cell_type": "code",
   "execution_count": 17,
   "metadata": {},
   "outputs": [
    {
     "data": {
      "text/plain": [
       "[u'aaban',\n",
       " u'aabha',\n",
       " u'aabid',\n",
       " u'aabriella',\n",
       " u'aada',\n",
       " u'aadam',\n",
       " u'aadan',\n",
       " u'aadarsh',\n",
       " u'aaden',\n",
       " u'aadesh',\n",
       " u'aadhav',\n",
       " u'aadhavan',\n",
       " u'aadhi',\n",
       " u'aadhira',\n",
       " u'aadhvik',\n",
       " u'aadhya',\n",
       " u'aadhyan',\n",
       " u'aadi',\n",
       " u'aadian',\n",
       " u'aadil',\n",
       " u'aadin',\n",
       " u'aadish',\n",
       " u'aadison',\n",
       " u'aadit',\n",
       " u'aadith',\n",
       " u'aadithya',\n",
       " u'aaditri',\n",
       " u'aaditya',\n",
       " u'aadiv',\n",
       " u'aadon',\n",
       " u'aadrian',\n",
       " u'aadrika',\n",
       " u'aadrit',\n",
       " u'aadvik',\n",
       " u'aadvika',\n",
       " u'aadya',\n",
       " u'aadyn',\n",
       " u'aafia',\n",
       " u'aafreen',\n",
       " u'aagam',\n",
       " u'aage',\n",
       " u'aagot',\n",
       " u'aahaan',\n",
       " u'aahan',\n",
       " u'aahana',\n",
       " u'aahil',\n",
       " u'aahir',\n",
       " u'aahliyah',\n",
       " u'aahna',\n",
       " u'aahron',\n",
       " u'aaidan',\n",
       " u'aaiden',\n",
       " u'aaidyn',\n",
       " u'aaila',\n",
       " u'aailiyah',\n",
       " u'aailyah',\n",
       " u'aaima',\n",
       " u'aaira',\n",
       " u'aairah',\n",
       " u'aaisha',\n",
       " u'aaishah',\n",
       " u'aaiyana',\n",
       " u'aaiza',\n",
       " u'aaja',\n",
       " u'aajah',\n",
       " u'aajaylah',\n",
       " u'aajon',\n",
       " u'aakanksha',\n",
       " u'aakarsh',\n",
       " u'aakash',\n",
       " u'aakeem',\n",
       " u'aakilah',\n",
       " u'aakira',\n",
       " u'aakiyah',\n",
       " u'aakriti',\n",
       " u'aala',\n",
       " u'aalaiya',\n",
       " u'aalaiyah',\n",
       " u'aalana',\n",
       " u'aalanah',\n",
       " u'aalani',\n",
       " u'aalap',\n",
       " u'aalaya',\n",
       " u'aalayah',\n",
       " u'aalayiah',\n",
       " u'aalayjah',\n",
       " u'aalayna',\n",
       " u'aalaysha',\n",
       " u'aalaysia',\n",
       " u'aalea',\n",
       " u'aaleah',\n",
       " u'aaleahya',\n",
       " u'aaleena',\n",
       " u'aaleeya',\n",
       " u'aaleeyah',\n",
       " u'aaleiah',\n",
       " u'aaleigha',\n",
       " u'aaleiyah',\n",
       " u'aalena',\n",
       " u'aalexis',\n",
       " u'aalexus',\n",
       " u'aaleya',\n",
       " u'aaleyah',\n",
       " u'aali',\n",
       " u'aalia',\n",
       " u'aaliah',\n",
       " u'aaliana',\n",
       " u'aalias',\n",
       " u'aaliayah',\n",
       " u'aaliayh',\n",
       " u'aalicia',\n",
       " u'aaliha',\n",
       " u'aalijah',\n",
       " u'aalim',\n",
       " u'aalimah',\n",
       " u'aalina',\n",
       " u'aalinah',\n",
       " u'aalisa',\n",
       " u'aalisha',\n",
       " u'aalivia',\n",
       " u'aaliya',\n",
       " u'aaliyaa',\n",
       " u'aaliyah',\n",
       " u'aaliyaha',\n",
       " u'aaliyahmarie',\n",
       " u'aaliyahrose',\n",
       " u'aaliyan',\n",
       " u'aaliyana',\n",
       " u'aaliyanna',\n",
       " u'aaliyha',\n",
       " u'aaliyiah',\n",
       " u'aalliyah',\n",
       " u'aallyah',\n",
       " u'aalok',\n",
       " u'aalon',\n",
       " u'aalya',\n",
       " u'aalyah',\n",
       " u'aalycia',\n",
       " u'aalyha',\n",
       " u'aalyia',\n",
       " u'aalyiah',\n",
       " u'aalyna',\n",
       " u'aalysia',\n",
       " u'aalyssa',\n",
       " u'aalyvia',\n",
       " u'aamanda',\n",
       " u'aamanee',\n",
       " u'aamani',\n",
       " u'aamar',\n",
       " u'aamari',\n",
       " u'aamarion',\n",
       " u'aamaya',\n",
       " u'aamber',\n",
       " u'aamena',\n",
       " u'aamer',\n",
       " u'aamia',\n",
       " u'aamil',\n",
       " u'aamilah',\n",
       " u'aamina',\n",
       " u'aaminah',\n",
       " u'aamir',\n",
       " u'aamira',\n",
       " u'aamirah',\n",
       " u'aamiya',\n",
       " u'aamiyah',\n",
       " u'aamna',\n",
       " u'aamoni',\n",
       " u'aamori',\n",
       " u'aamya',\n",
       " u'aamyah',\n",
       " u'aana',\n",
       " u'aanand',\n",
       " u'aanav',\n",
       " u'aanaya',\n",
       " u'aanchal',\n",
       " u'aania',\n",
       " u'aaniah',\n",
       " u'aanijah',\n",
       " u'aanika',\n",
       " u'aanisah',\n",
       " u'aaniya',\n",
       " u'aaniyah',\n",
       " u'aaniylah',\n",
       " u'aansh',\n",
       " u'aanshi',\n",
       " u'aanvi',\n",
       " u'aanya',\n",
       " u'aanyah',\n",
       " u'aanyla',\n",
       " u'aapri',\n",
       " u'aaqib',\n",
       " u'aaqil',\n",
       " u'aara',\n",
       " u'aarabella',\n",
       " u'aarabhi',\n",
       " u'aaradhana',\n",
       " u'aaradhy',\n",
       " u'aaradhya',\n",
       " u'aaraiz',\n",
       " u'aaralyn',\n",
       " u'aaralynn',\n",
       " u'aaran',\n",
       " u'aaraon',\n",
       " u'aaratrika',\n",
       " u'aarav',\n",
       " u'aaravi',\n",
       " u'aaraya',\n",
       " u'aaren',\n",
       " u'aareon',\n",
       " u'aareona',\n",
       " u'aari',\n",
       " u'aaria',\n",
       " u'aariah',\n",
       " u'aarian',\n",
       " u'aariana',\n",
       " u'aarianna',\n",
       " u'aarib',\n",
       " u'aaric',\n",
       " u'aarica',\n",
       " u'aarick',\n",
       " u'aarie',\n",
       " u'aariel',\n",
       " u'aarielle',\n",
       " u'aarien',\n",
       " u'aarik',\n",
       " u'aarika',\n",
       " u'aariketh',\n",
       " u'aarilyn',\n",
       " u'aarilynn',\n",
       " u'aarin',\n",
       " u'aarini',\n",
       " u'aarion',\n",
       " u'aariona',\n",
       " u'aarionna',\n",
       " u'aaris',\n",
       " u'aarish',\n",
       " u'aarit',\n",
       " u'aariv',\n",
       " u'aariya',\n",
       " u'aariyah',\n",
       " u'aariyan',\n",
       " u'aariyana',\n",
       " u'aariyanna',\n",
       " u'aariyona',\n",
       " u'aariyonna',\n",
       " u'aariz',\n",
       " u'aarjav',\n",
       " u'aarn',\n",
       " u'aarna',\n",
       " u'aarnav',\n",
       " u'aarnavi',\n",
       " u'aarne',\n",
       " u'aaro',\n",
       " u'aaroh',\n",
       " u'aarohan',\n",
       " u'aarohi',\n",
       " u'aarolyn',\n",
       " u'aaron',\n",
       " u'aarona',\n",
       " u'aaronae',\n",
       " u'aaronda',\n",
       " u'aaronette',\n",
       " u'aaronisha',\n",
       " u'aaronjacob',\n",
       " u'aaronjames',\n",
       " u'aaronjohn',\n",
       " u'aaronjoseph',\n",
       " u'aaronjosh',\n",
       " u'aaronjoshua',\n",
       " u'aaronlee',\n",
       " u'aaronmichael',\n",
       " u'aaronn',\n",
       " u'aaroosh',\n",
       " u'aarren',\n",
       " u'aarron',\n",
       " u'aarsh',\n",
       " u'aarshi',\n",
       " u'aarshiya',\n",
       " u'aarthi',\n",
       " u'aarti',\n",
       " u'aaruhi',\n",
       " u'aarush',\n",
       " u'aarushi',\n",
       " u'aarvi',\n",
       " u'aarvin',\n",
       " u'aarya',\n",
       " u'aaryah',\n",
       " u'aaryahi',\n",
       " u'aaryan',\n",
       " u'aaryana',\n",
       " u'aaryanna',\n",
       " u'aaryash',\n",
       " u'aaryav',\n",
       " u'aaryn',\n",
       " u'aaryon',\n",
       " u'aaryona',\n",
       " u'aarza',\n",
       " u'aaser',\n",
       " u'aasha',\n",
       " u'aashana',\n",
       " u'aashay',\n",
       " u'aashi',\n",
       " u'aashia',\n",
       " u'aashika',\n",
       " u'aashini',\n",
       " u'aashir',\n",
       " u'aashirya',\n",
       " u'aashish',\n",
       " u'aashita',\n",
       " u'aashiyana',\n",
       " u'aashka',\n",
       " u'aashman',\n",
       " u'aashna',\n",
       " u'aashni',\n",
       " u'aashray',\n",
       " u'aashrita',\n",
       " u'aashrith',\n",
       " u'aashritha',\n",
       " u'aashvi',\n",
       " u'aasia',\n",
       " u'aasim',\n",
       " u'aasin',\n",
       " u'aasir',\n",
       " u'aasiya',\n",
       " u'aasiyah',\n",
       " u'aason',\n",
       " u'aastha',\n",
       " u'aathan',\n",
       " u'aatif',\n",
       " u'aatish',\n",
       " u'aava',\n",
       " u'aavah',\n",
       " u'aavash',\n",
       " u'aaven',\n",
       " u'aavi',\n",
       " u'aavin',\n",
       " u'aavion',\n",
       " u'aavya',\n",
       " u'aavyan',\n",
       " u'aavyn',\n",
       " u'aaya',\n",
       " u'aayaan',\n",
       " u'aayah',\n",
       " u'aayam',\n",
       " u'aayan',\n",
       " u'aayana',\n",
       " u'aayanah',\n",
       " u'aayanna',\n",
       " u'aayansh',\n",
       " u'aayat',\n",
       " u'aaydan',\n",
       " u'aayden',\n",
       " u'aayla',\n",
       " u'aaylah',\n",
       " u'aayliah',\n",
       " u'aayra',\n",
       " u'aayu',\n",
       " u'aayush',\n",
       " u'aayusha',\n",
       " u'aayushi',\n",
       " u'aazan',\n",
       " u'aazim',\n",
       " u'aaziyah',\n",
       " u'ab',\n",
       " u'aba',\n",
       " u'abaan',\n",
       " u'abad',\n",
       " u'abagael',\n",
       " u'abagail',\n",
       " u'abagaile',\n",
       " u'abagale',\n",
       " u'abagayle',\n",
       " u'abaigael',\n",
       " u'abaigail',\n",
       " u'abaigeal',\n",
       " u'aban',\n",
       " u'abanoub',\n",
       " u'abas',\n",
       " u'abasi',\n",
       " u'abass',\n",
       " u'abayomi',\n",
       " u'abb',\n",
       " u'abba',\n",
       " u'abbaas',\n",
       " u'abbagail',\n",
       " u'abbagale',\n",
       " u'abbagayle',\n",
       " u'abbas',\n",
       " u'abbe',\n",
       " u'abbee',\n",
       " u'abbegail',\n",
       " u'abbegale',\n",
       " u'abbegayle',\n",
       " u'abbey',\n",
       " u'abbeygail',\n",
       " u'abbeygale',\n",
       " u'abbi',\n",
       " u'abbie',\n",
       " u'abbiegail',\n",
       " u'abbiegale',\n",
       " u'abbiegayle',\n",
       " u'abbigael',\n",
       " u'abbigail',\n",
       " u'abbigaile',\n",
       " u'abbigal',\n",
       " u'abbigale',\n",
       " u'abbigayl',\n",
       " u'abbigayle',\n",
       " u'abbilyn',\n",
       " u'abbot',\n",
       " u'abbott',\n",
       " u'abbra',\n",
       " u'abbriella',\n",
       " u'abbrielle',\n",
       " u'abby',\n",
       " u'abbye',\n",
       " u'abbygael',\n",
       " u'abbygail',\n",
       " u'abbygaile',\n",
       " u'abbygale',\n",
       " u'abbygayl',\n",
       " u'abbygayle',\n",
       " u'abbylynn',\n",
       " u'abcde',\n",
       " u'abd',\n",
       " u'abdala',\n",
       " u'abdalah',\n",
       " u'abdalla',\n",
       " u'abdallah',\n",
       " u'abdalrahman',\n",
       " u'abdalrhman',\n",
       " u'abdel',\n",
       " u'abdelaziz',\n",
       " u'abdelhadi',\n",
       " u'abdelkareem',\n",
       " u'abdelkarim',\n",
       " u'abdellah',\n",
       " u'abdelrahman',\n",
       " u'abdelrhman',\n",
       " u'abderrahman',\n",
       " u'abdi',\n",
       " u'abdias',\n",
       " u'abdiasis',\n",
       " u'abdiaziz',\n",
       " u'abdiel',\n",
       " u'abdifatah',\n",
       " u'abdihafid',\n",
       " u'abdihakim',\n",
       " u'abdihamid',\n",
       " u'abdikadir',\n",
       " u'abdikarim',\n",
       " u'abdikhaliq',\n",
       " u'abdilahi',\n",
       " u'abdimalik',\n",
       " u'abdinajib',\n",
       " u'abdinasir',\n",
       " u'abdiqani',\n",
       " u'abdirahim',\n",
       " u'abdirahin',\n",
       " u'abdirahman',\n",
       " u'abdirashid',\n",
       " u'abdirisaq',\n",
       " u'abdirizak',\n",
       " u'abdisalam',\n",
       " u'abdisalan',\n",
       " u'abdisamad',\n",
       " u'abdishakur',\n",
       " u'abdiwahab',\n",
       " u'abdiwali',\n",
       " u'abdo',\n",
       " u'abdon',\n",
       " u'abdou',\n",
       " u'abdoul',\n",
       " u'abdoulaye',\n",
       " u'abdoulaziz',\n",
       " u'abdoulie',\n",
       " u'abdourahman',\n",
       " u'abdourahmane',\n",
       " u'abdrahman',\n",
       " u'abdrew',\n",
       " u'abdu',\n",
       " u'abdual',\n",
       " u'abduallah',\n",
       " u'abduel',\n",
       " u'abdul',\n",
       " u'abdula',\n",
       " u'abdulah',\n",
       " u'abdulahad',\n",
       " u'abdulahi',\n",
       " u'abdulai',\n",
       " u'abdulaye',\n",
       " u'abdulazeem',\n",
       " u'abdulazeez',\n",
       " u'abdulaziz',\n",
       " u'abdulbari',\n",
       " u'abdulbasit',\n",
       " u'abdule',\n",
       " u'abdulelah',\n",
       " u'abdulhadi',\n",
       " u'abdulhakeem',\n",
       " u'abdulhakim',\n",
       " u'abdulhalim',\n",
       " u'abdulhameed',\n",
       " u'abdulhamid',\n",
       " u'abduljabbar',\n",
       " u'abduljaleel',\n",
       " u'abduljalil',\n",
       " u'abdulkadir',\n",
       " u'abdulkareem',\n",
       " u'abdulkarim',\n",
       " u'abdulkhaliq',\n",
       " u'abdull',\n",
       " u'abdulla',\n",
       " u'abdullah',\n",
       " u'abdullahi',\n",
       " u'abdullatif',\n",
       " u'abdulloh',\n",
       " u'abdulmajeed',\n",
       " u'abdulmajid',\n",
       " u'abdulmalek',\n",
       " u'abdulmalik',\n",
       " u'abdulmohsen',\n",
       " u'abdulnasir',\n",
       " u'abdulqadir',\n",
       " u'abdulraheem',\n",
       " u'abdulrahim',\n",
       " u'abdulrahman',\n",
       " u'abdulrazaq',\n",
       " u'abdulrehman',\n",
       " u'abdulrhman',\n",
       " u'abdulsalam',\n",
       " u'abdulsamad',\n",
       " u'abdulwadud',\n",
       " u'abdulwahab',\n",
       " u'abdulwahid',\n",
       " u'abdur',\n",
       " u'abdurahman',\n",
       " u'abdurahmon',\n",
       " u'abdurraheem',\n",
       " u'abdurrahim',\n",
       " u'abdurrahmaan',\n",
       " u'abdurrahman',\n",
       " u'abdurrehman',\n",
       " u'abdussamad',\n",
       " u'abe',\n",
       " u'abeal',\n",
       " u'abed',\n",
       " u'abedallah',\n",
       " u'abedalrahman',\n",
       " u'abednego',\n",
       " u'abeeha',\n",
       " u'abeer',\n",
       " u'abeera',\n",
       " u'abegail',\n",
       " u'abegale',\n",
       " u'abegayle',\n",
       " u'abel',\n",
       " u'abela',\n",
       " u'abelardo',\n",
       " u'abelina',\n",
       " u'abelino',\n",
       " u'abell',\n",
       " u'abella',\n",
       " u'abem',\n",
       " u'aben',\n",
       " u'abena',\n",
       " u'abenezer',\n",
       " u'abeni',\n",
       " u'aber',\n",
       " u'aberdeen',\n",
       " u'aberham',\n",
       " u'abernathy',\n",
       " u'abert',\n",
       " u'abery',\n",
       " u'abey',\n",
       " u'abgail',\n",
       " u'abha',\n",
       " u'abhay',\n",
       " u'abheek',\n",
       " u'abhi',\n",
       " u'abhigna',\n",
       " u'abhijay',\n",
       " u'abhijeet',\n",
       " u'abhijit',\n",
       " u'abhijot',\n",
       " u'abhik',\n",
       " u'abhilash',\n",
       " u'abhimanyu',\n",
       " u'abhinav',\n",
       " u'abhinay',\n",
       " u'abhinaya',\n",
       " u'abhiraam',\n",
       " u'abhiraj',\n",
       " u'abhiram',\n",
       " u'abhirup',\n",
       " u'abhishek',\n",
       " u'abhyuday',\n",
       " u'abi',\n",
       " u'abia',\n",
       " u'abiageal',\n",
       " u'abiah',\n",
       " u'abian',\n",
       " u'abianna',\n",
       " u'abibail',\n",
       " u'abid',\n",
       " u'abida',\n",
       " u'abidah',\n",
       " u'abidan',\n",
       " u'abie',\n",
       " u'abiegail',\n",
       " u'abiel',\n",
       " u'abiela',\n",
       " u'abiella',\n",
       " u'abiezer',\n",
       " u'abigael',\n",
       " u'abigaelle',\n",
       " u'abigahil',\n",
       " u'abigai',\n",
       " u'abigail',\n",
       " u'abigaile',\n",
       " u'abigailgrace',\n",
       " u'abigaille',\n",
       " u'abigailmarie',\n",
       " u'abigailrose',\n",
       " u'abigal',\n",
       " u'abigale',\n",
       " u'abigayil',\n",
       " u'abigayl',\n",
       " u'abigayle',\n",
       " u'abigeal',\n",
       " u'abigel',\n",
       " u'abigial',\n",
       " u'abiha',\n",
       " u'abihail',\n",
       " u'abijah',\n",
       " u'abilene',\n",
       " u'abilgail',\n",
       " u'abilio',\n",
       " u'abilyn',\n",
       " u'abilynn',\n",
       " u'abimael',\n",
       " u'abimbola',\n",
       " u'abimelec',\n",
       " u'abin',\n",
       " u'abinadab',\n",
       " u'abinadi',\n",
       " u'abinav',\n",
       " u'abinaya',\n",
       " u'abiodun',\n",
       " u'abiola',\n",
       " u'abiona',\n",
       " u'abir',\n",
       " u'abira',\n",
       " u'abiram',\n",
       " u'abirami',\n",
       " u'abisag',\n",
       " u'abisai',\n",
       " u'abish',\n",
       " u'abisha',\n",
       " u'abishai',\n",
       " u'abishek',\n",
       " u'abisola',\n",
       " u'abiud',\n",
       " u'abiyah',\n",
       " u'abla',\n",
       " u'able',\n",
       " u'abnel',\n",
       " u'abner',\n",
       " u'abney',\n",
       " u'abony',\n",
       " u'abou',\n",
       " u'aboubacar',\n",
       " u'aboubakar',\n",
       " u'abra',\n",
       " u'abraam',\n",
       " u'abraar',\n",
       " u'abrah',\n",
       " u'abraham',\n",
       " u'abrahan',\n",
       " u'abraheem',\n",
       " u'abrahem',\n",
       " u'abrahim',\n",
       " u'abrahm',\n",
       " u'abram',\n",
       " u'abran',\n",
       " u'abranda',\n",
       " u'abrar',\n",
       " u'abraxas',\n",
       " u'abrea',\n",
       " u'abreana',\n",
       " u'abreanna',\n",
       " u'abree',\n",
       " u'abreia',\n",
       " u'abren',\n",
       " u'abreona',\n",
       " u'abreonna',\n",
       " u'abrey',\n",
       " u'abreya',\n",
       " u'abrham',\n",
       " u'abri',\n",
       " u'abria',\n",
       " u'abriah',\n",
       " u'abrial',\n",
       " u'abriam',\n",
       " u'abrian',\n",
       " u'abriana',\n",
       " u'abrianna',\n",
       " u'abriannah',\n",
       " u'abrianne',\n",
       " u'abrie',\n",
       " u'abriel',\n",
       " u'abriela',\n",
       " u'abriele',\n",
       " u'abriella',\n",
       " u'abrielle',\n",
       " u'abrien',\n",
       " u'abrienne',\n",
       " u'abrigail',\n",
       " u'abrihet',\n",
       " u'abril',\n",
       " u'abrille',\n",
       " u'abrina',\n",
       " u'abrion',\n",
       " u'abriona',\n",
       " u'abrionna',\n",
       " u'abrish',\n",
       " u'abriya',\n",
       " u'abriyah',\n",
       " u'abriyana',\n",
       " u'abrom',\n",
       " u'abron',\n",
       " u'abrum',\n",
       " u'abry',\n",
       " u'abryana',\n",
       " u'abryanna',\n",
       " u'abryella',\n",
       " u'abryelle',\n",
       " u'abryl',\n",
       " u'absalat',\n",
       " u'absalom',\n",
       " u'absalon',\n",
       " u'abshir',\n",
       " u'absidy',\n",
       " u'abtin',\n",
       " u'abu',\n",
       " u'abubacar',\n",
       " u'abubacarr',\n",
       " u'abubakar',\n",
       " u'abubakarr',\n",
       " u'abubakary',\n",
       " u'abubaker',\n",
       " u'abubakr',\n",
       " u'abuk',\n",
       " u'abukar',\n",
       " u'abundio',\n",
       " u'aby',\n",
       " u'abyade',\n",
       " u'abyan',\n",
       " u'abygael',\n",
       " u'abygail',\n",
       " u'abygaile',\n",
       " u'abygale',\n",
       " u'abygayle',\n",
       " u'abyssinia',\n",
       " u'ac',\n",
       " u'acacia',\n",
       " u'acacius',\n",
       " u'acadia',\n",
       " u'acamas',\n",
       " u'acari',\n",
       " u'acasia',\n",
       " u'accacia',\n",
       " u'accalia',\n",
       " u'access',\n",
       " u'accie',\n",
       " u'accursio',\n",
       " u'ace',\n",
       " u'acea',\n",
       " u'acein',\n",
       " u'acel',\n",
       " u'acelin',\n",
       " u'acelino',\n",
       " u'acelyn',\n",
       " u'acelynn',\n",
       " u'acen',\n",
       " u'acencion',\n",
       " u'aceon',\n",
       " u'acer',\n",
       " u'aceson',\n",
       " u'acesyn',\n",
       " u'aceton',\n",
       " u'acey',\n",
       " u'aceyn',\n",
       " u'achai',\n",
       " u'achaia',\n",
       " u'achan',\n",
       " u'achante',\n",
       " u'achanti',\n",
       " u'achary',\n",
       " u'achazia',\n",
       " u'achel',\n",
       " u'acheron',\n",
       " u'achille',\n",
       " u'achilles',\n",
       " u'achilleus',\n",
       " u'achillies',\n",
       " u'achintya',\n",
       " u'achol',\n",
       " u'achraf',\n",
       " u'achsa',\n",
       " u'achsah',\n",
       " u'achyut',\n",
       " u'achyuth',\n",
       " u'acia',\n",
       " u'aciano',\n",
       " u'acie',\n",
       " u'aciel',\n",
       " u'acil',\n",
       " u'acire',\n",
       " u'ackeem',\n",
       " u'ackley',\n",
       " u'acob',\n",
       " u'acquanetta',\n",
       " u'acquanette',\n",
       " u'acsa',\n",
       " u'acura',\n",
       " u'acxel',\n",
       " u'acy',\n",
       " u'ad',\n",
       " u'ada',\n",
       " u'adabel',\n",
       " u'adabella',\n",
       " u'adabelle',\n",
       " u'adacia',\n",
       " u'adae',\n",
       " u'adael',\n",
       " u'adaelyn',\n",
       " u'adaeze',\n",
       " u'adagio',\n",
       " u'adah',\n",
       " u'adahir',\n",
       " u'adahli',\n",
       " u'adahlia',\n",
       " u'adahy',\n",
       " u'adai',\n",
       " u'adaia',\n",
       " u'adaiah',\n",
       " u'adaija',\n",
       " u'adaijah',\n",
       " u'adailyn',\n",
       " u'adain',\n",
       " u'adair',\n",
       " u'adaira',\n",
       " u'adaire',\n",
       " u'adairis',\n",
       " u'adaisha',\n",
       " u'adaisia',\n",
       " u'adaja',\n",
       " u'adajah',\n",
       " u'adaku',\n",
       " u'adal',\n",
       " u'adala',\n",
       " u'adalade',\n",
       " u'adalae',\n",
       " u'adalai',\n",
       " u'adalaide',\n",
       " u'adalay',\n",
       " u'adalaya',\n",
       " u'adalayde',\n",
       " u'adalbert',\n",
       " u'adalberto',\n",
       " u'adale',\n",
       " u'adalea',\n",
       " u'adaleah',\n",
       " u'adalee',\n",
       " u'adaleen',\n",
       " u'adaleena',\n",
       " u'adalei',\n",
       " u'adaleia',\n",
       " u'adaleigh',\n",
       " u'adaleine',\n",
       " u'adalen',\n",
       " u'adalena',\n",
       " u'adalene',\n",
       " u'adaley',\n",
       " u'adaleya',\n",
       " u'adaleyza',\n",
       " u'adalhi',\n",
       " u'adali',\n",
       " u'adalia',\n",
       " u'adaliah',\n",
       " u'adalicia',\n",
       " u'adalid',\n",
       " u'adalida',\n",
       " u'adalie',\n",
       " u'adaliene',\n",
       " u'adalin',\n",
       " u'adalina',\n",
       " u'adalind',\n",
       " u'adalinda',\n",
       " u'adaline',\n",
       " u'adalinn',\n",
       " u'adalinne',\n",
       " u'adalis',\n",
       " u'adalisa',\n",
       " u'adalise',\n",
       " u'adalisse',\n",
       " u'adalius',\n",
       " u'adaliyah',\n",
       " u'adaliz',\n",
       " u'adalize',\n",
       " u'adallyn',\n",
       " u'adaly',\n",
       " u'adalya',\n",
       " u'adalye',\n",
       " u'adalyn',\n",
       " u'adalyna',\n",
       " u'adalynd',\n",
       " u'adalyne',\n",
       " u'adalynn',\n",
       " u'adalynne',\n",
       " u'adalys',\n",
       " u'adalyse',\n",
       " u'adam',\n",
       " u'adama',\n",
       " u'adamae',\n",
       " u'adamari',\n",
       " u'adamarie',\n",
       " u'adamaris',\n",
       " u'adamariz',\n",
       " u'adamary',\n",
       " u'adamarys',\n",
       " u'adamina',\n",
       " u'adamm',\n",
       " u'adamma',\n",
       " u'adammichael',\n",
       " u'adamo',\n",
       " u'adams',\n",
       " u'adan',\n",
       " u'adana',\n",
       " u'adaneli',\n",
       " u'adanelly',\n",
       " u'adanely',\n",
       " u'adanna',\n",
       " u'adannaya',\n",
       " u'adante',\n",
       " u'adanya',\n",
       " u'adaobi',\n",
       " u'adaora',\n",
       " u'adar',\n",
       " u'adara',\n",
       " u'adarah',\n",
       " u'adari',\n",
       " u'adaria',\n",
       " u'adarian',\n",
       " u'adarien',\n",
       " u'adarion',\n",
       " u'adarious',\n",
       " u'adarius',\n",
       " u'adarrius',\n",
       " u'adarryl',\n",
       " u'adarryll',\n",
       " u'adarsh',\n",
       " u'adaryl',\n",
       " u'adaryll',\n",
       " u'adasha',\n",
       " u'adashia',\n",
       " u'adasia',\n",
       " u'adason',\n",
       " u'adassa',\n",
       " u'adasyn',\n",
       " u'adaugo',\n",
       " u'adaure',\n",
       " u'adavia',\n",
       " u'adavion',\n",
       " u'adaya',\n",
       " u'adayah',\n",
       " u'adayla',\n",
       " u'adaysha',\n",
       " u'adayshia',\n",
       " u'adaysia',\n",
       " u'adbeel',\n",
       " u'adbiel',\n",
       " u'add',\n",
       " u'adda',\n",
       " u'addah',\n",
       " u'addai',\n",
       " u'addalee',\n",
       " u'addaleigh',\n",
       " u'addaley',\n",
       " u'addalie',\n",
       " u'addalin',\n",
       " u'addalina',\n",
       " u'addaline',\n",
       " u'addalyn',\n",
       " u'addalyne',\n",
       " u'addalynn',\n",
       " u'addalynne',\n",
       " u'addam',\n",
       " u'addan',\n",
       " ...]"
      ]
     },
     "execution_count": 17,
     "metadata": {},
     "output_type": "execute_result"
    }
   ],
   "source": [
    "cv.get_feature_names()"
   ]
  },
  {
   "cell_type": "code",
   "execution_count": 18,
   "metadata": {},
   "outputs": [],
   "source": [
    "from sklearn.model_selection import train_test_split"
   ]
  },
  {
   "cell_type": "code",
   "execution_count": 19,
   "metadata": {},
   "outputs": [],
   "source": [
    "# Features \n",
    "X\n",
    "# Labels\n",
    "y = df_names.sex"
   ]
  },
  {
   "cell_type": "code",
   "execution_count": 20,
   "metadata": {},
   "outputs": [],
   "source": [
    "X_train, X_test, y_train, y_test = train_test_split(X, y, test_size=0.33, random_state=42)"
   ]
  },
  {
   "cell_type": "code",
   "execution_count": 21,
   "metadata": {},
   "outputs": [
    {
     "data": {
      "text/plain": [
       "0.6398163206734908"
      ]
     },
     "execution_count": 21,
     "metadata": {},
     "output_type": "execute_result"
    }
   ],
   "source": [
    "# Naive Bayes Classifier\n",
    "from sklearn.naive_bayes import MultinomialNB\n",
    "clf = MultinomialNB()\n",
    "clf.fit(X_train,y_train)\n",
    "clf.score(X_test,y_test)\n"
   ]
  },
  {
   "cell_type": "code",
   "execution_count": 22,
   "metadata": {},
   "outputs": [
    {
     "name": "stdout",
     "output_type": "stream",
     "text": [
      "('Accuracy of Model', 63.98163206734908, '%')\n"
     ]
    }
   ],
   "source": [
    "# Accuracy of our Model\n",
    "print(\"Accuracy of Model\",clf.score(X_test,y_test)*100,\"%\")"
   ]
  },
  {
   "cell_type": "code",
   "execution_count": 23,
   "metadata": {},
   "outputs": [
    {
     "name": "stdout",
     "output_type": "stream",
     "text": [
      "('Accuracy of Model', 100.0, '%')\n"
     ]
    }
   ],
   "source": [
    "# Accuracy of our Model\n",
    "print(\"Accuracy of Model\",clf.score(X_train,y_train)*100,\"%\")"
   ]
  },
  {
   "cell_type": "markdown",
   "metadata": {},
   "source": [
    "### Sample Prediction"
   ]
  },
  {
   "cell_type": "code",
   "execution_count": 24,
   "metadata": {},
   "outputs": [],
   "source": [
    "# Sample1 Prediction\n",
    "sample_name = [\"Mary\"]\n",
    "vect = cv.transform(sample_name).toarray()"
   ]
  },
  {
   "cell_type": "code",
   "execution_count": 25,
   "metadata": {},
   "outputs": [
    {
     "data": {
      "text/plain": [
       "array([[0, 0, 0, ..., 0, 0, 0]])"
      ]
     },
     "execution_count": 25,
     "metadata": {},
     "output_type": "execute_result"
    }
   ],
   "source": [
    "vect"
   ]
  },
  {
   "cell_type": "code",
   "execution_count": 26,
   "metadata": {},
   "outputs": [
    {
     "data": {
      "text/plain": [
       "array([0])"
      ]
     },
     "execution_count": 26,
     "metadata": {},
     "output_type": "execute_result"
    }
   ],
   "source": [
    "# Female is 0, Male is 1\n",
    "clf.predict(vect)"
   ]
  },
  {
   "cell_type": "code",
   "execution_count": 27,
   "metadata": {},
   "outputs": [],
   "source": [
    "# Sample2 Prediction\n",
    "sample_name1 = [\"Mark\"]\n",
    "vect1 = cv.transform(sample_name1).toarray()"
   ]
  },
  {
   "cell_type": "code",
   "execution_count": 28,
   "metadata": {},
   "outputs": [
    {
     "data": {
      "text/plain": [
       "array([1])"
      ]
     },
     "execution_count": 28,
     "metadata": {},
     "output_type": "execute_result"
    }
   ],
   "source": [
    "clf.predict(vect1)"
   ]
  },
  {
   "cell_type": "code",
   "execution_count": 29,
   "metadata": {},
   "outputs": [],
   "source": [
    "# Sample3 Prediction of Russian Names\n",
    "sample_name2 = [\"Natasha\"]\n",
    "vect2 = cv.transform(sample_name2).toarray()"
   ]
  },
  {
   "cell_type": "code",
   "execution_count": 30,
   "metadata": {},
   "outputs": [
    {
     "data": {
      "text/plain": [
       "array([0])"
      ]
     },
     "execution_count": 30,
     "metadata": {},
     "output_type": "execute_result"
    }
   ],
   "source": [
    "clf.predict(vect2)"
   ]
  },
  {
   "cell_type": "code",
   "execution_count": 31,
   "metadata": {},
   "outputs": [],
   "source": [
    "# Sample3 Prediction of Random Names\n",
    "sample_name3 = [\"Nefertiti\",\"Nasha\",\"Ama\",\"Ayo\",\"Xhavier\",\"Ovetta\",\"Tathiana\",\"Xia\",\"Joseph\",\"Xianliang\"]\n",
    "vect3 = cv.transform(sample_name3).toarray()"
   ]
  },
  {
   "cell_type": "code",
   "execution_count": 32,
   "metadata": {},
   "outputs": [
    {
     "data": {
      "text/plain": [
       "array([0, 0, 0, 0, 1, 0, 0, 0, 0, 0])"
      ]
     },
     "execution_count": 32,
     "metadata": {},
     "output_type": "execute_result"
    }
   ],
   "source": [
    "clf.predict(vect3)"
   ]
  },
  {
   "cell_type": "code",
   "execution_count": 33,
   "metadata": {},
   "outputs": [],
   "source": [
    "# A function to do it\n",
    "def genderpredictor(a):\n",
    "    test_name = [a]\n",
    "    vector = cv.transform(test_name).toarray()\n",
    "    if clf.predict(vector) == 0:\n",
    "        print(\"Female\")\n",
    "    else:\n",
    "        print(\"Male\")\n",
    "    "
   ]
  },
  {
   "cell_type": "code",
   "execution_count": 34,
   "metadata": {},
   "outputs": [
    {
     "name": "stdout",
     "output_type": "stream",
     "text": [
      "Female\n"
     ]
    }
   ],
   "source": [
    "genderpredictor(\"Martha\")"
   ]
  },
  {
   "cell_type": "markdown",
   "metadata": {},
   "source": [
    "- Features fxn\n",
    "- apply the fxn\n",
    "- vectorizer\n",
    "- fit\n",
    "- transform\n",
    "- classifier\n",
    "- fit\n",
    "- predict\n"
   ]
  },
  {
   "cell_type": "code",
   "execution_count": 35,
   "metadata": {},
   "outputs": [
    {
     "name": "stdout",
     "output_type": "stream",
     "text": [
      "Female\n",
      "None\n",
      "Male\n",
      "None\n",
      "Female\n",
      "None\n",
      "Female\n",
      "None\n"
     ]
    }
   ],
   "source": [
    "namelist = [\"Yaa\",\"Yaw\",\"Femi\",\"Masha\"]\n",
    "for i in namelist:\n",
    "    print(genderpredictor(i))"
   ]
  },
  {
   "cell_type": "markdown",
   "metadata": {},
   "source": [
    "### Using a custom function for feature analysis"
   ]
  },
  {
   "cell_type": "code",
   "execution_count": 36,
   "metadata": {},
   "outputs": [],
   "source": [
    "# By Analogy most female names ends in 'A' or 'E' or has the sound of 'A'\n",
    "def features(name):\n",
    "    name = name.lower()\n",
    "    return {\n",
    "        'first-letter': name[0], # First letter\n",
    "        'first2-letters': name[0:2], # First 2 letters\n",
    "        'first3-letters': name[0:3], # First 3 letters\n",
    "        'last-letter': name[-1],\n",
    "        'last2-letters': name[-2:],\n",
    "        'last3-letters': name[-3:],\n",
    "    }"
   ]
  },
  {
   "cell_type": "code",
   "execution_count": 37,
   "metadata": {},
   "outputs": [
    {
     "name": "stdout",
     "output_type": "stream",
     "text": [
      "[{'first2-letters': 'an', 'last-letter': 'a', 'first-letter': 'a', 'last2-letters': 'na', 'last3-letters': 'nna', 'first3-letters': 'ann'}\n",
      " {'first2-letters': 'ha', 'last-letter': 'h', 'first-letter': 'h', 'last2-letters': 'ah', 'last3-letters': 'nah', 'first3-letters': 'han'}\n",
      " {'first2-letters': 'pe', 'last-letter': 'r', 'first-letter': 'p', 'last2-letters': 'er', 'last3-letters': 'ter', 'first3-letters': 'pet'}\n",
      " {'first2-letters': 'jo', 'last-letter': 'n', 'first-letter': 'j', 'last2-letters': 'hn', 'last3-letters': 'ohn', 'first3-letters': 'joh'}\n",
      " {'first2-letters': 'vl', 'last-letter': 'r', 'first-letter': 'v', 'last2-letters': 'ir', 'last3-letters': 'mir', 'first3-letters': 'vla'}\n",
      " {'first2-letters': 'mo', 'last-letter': 'd', 'first-letter': 'm', 'last2-letters': 'ed', 'last3-letters': 'med', 'first3-letters': 'moh'}]\n"
     ]
    }
   ],
   "source": [
    "# Vectorize the features function\n",
    "features = np.vectorize(features)\n",
    "print(features([\"Anna\", \"Hannah\", \"Peter\",\"John\",\"Vladmir\",\"Mohammed\"]))"
   ]
  },
  {
   "cell_type": "code",
   "execution_count": 38,
   "metadata": {},
   "outputs": [],
   "source": [
    "# Extract the features for the dataset\n",
    "df_X = features(df_names['name'])"
   ]
  },
  {
   "cell_type": "code",
   "execution_count": 39,
   "metadata": {},
   "outputs": [],
   "source": [
    "df_y = df_names['sex']"
   ]
  },
  {
   "cell_type": "code",
   "execution_count": 40,
   "metadata": {},
   "outputs": [
    {
     "name": "stdout",
     "output_type": "stream",
     "text": [
      "  (0, 1)\t1.0\n",
      "  (0, 3)\t1.0\n",
      "  (0, 5)\t1.0\n",
      "  (0, 7)\t1.0\n",
      "  (0, 9)\t1.0\n",
      "  (0, 10)\t1.0\n",
      "  (1, 0)\t1.0\n",
      "  (1, 2)\t1.0\n",
      "  (1, 4)\t1.0\n",
      "  (1, 6)\t1.0\n",
      "  (1, 8)\t1.0\n",
      "  (1, 11)\t1.0\n"
     ]
    }
   ],
   "source": [
    "from sklearn.feature_extraction import DictVectorizer\n",
    " \n",
    "corpus = features([\"Mike\", \"Julia\"])\n",
    "dv = DictVectorizer()\n",
    "dv.fit(corpus)\n",
    "transformed = dv.transform(corpus)\n",
    "print(transformed)\n",
    " "
   ]
  },
  {
   "cell_type": "code",
   "execution_count": 41,
   "metadata": {},
   "outputs": [
    {
     "data": {
      "text/plain": [
       "['first-letter=j',\n",
       " 'first-letter=m',\n",
       " 'first2-letters=ju',\n",
       " 'first2-letters=mi',\n",
       " 'first3-letters=jul',\n",
       " 'first3-letters=mik',\n",
       " 'last-letter=a',\n",
       " 'last-letter=e',\n",
       " 'last2-letters=ia',\n",
       " 'last2-letters=ke',\n",
       " 'last3-letters=ike',\n",
       " 'last3-letters=lia']"
      ]
     },
     "execution_count": 41,
     "metadata": {},
     "output_type": "execute_result"
    }
   ],
   "source": [
    "dv.get_feature_names()"
   ]
  },
  {
   "cell_type": "code",
   "execution_count": 42,
   "metadata": {},
   "outputs": [],
   "source": [
    "# Train Test Split\n",
    "dfX_train, dfX_test, dfy_train, dfy_test = train_test_split(df_X, df_y, test_size=0.33, random_state=42)"
   ]
  },
  {
   "cell_type": "code",
   "execution_count": 43,
   "metadata": {},
   "outputs": [
    {
     "data": {
      "text/plain": [
       "array([{'first2-letters': 'el', 'last-letter': 'a', 'first-letter': 'e', 'last2-letters': 'ia', 'last3-letters': 'nia', 'first3-letters': 'ele'},\n",
       "       {'first2-letters': 'ad', 'last-letter': 'l', 'first-letter': 'a', 'last2-letters': 'il', 'last3-letters': 'dil', 'first3-letters': 'adi'},\n",
       "       {'first2-letters': 'ka', 'last-letter': 'e', 'first-letter': 'k', 'last2-letters': 'ze', 'last3-letters': 'nze', 'first3-letters': 'kad'},\n",
       "       ...,\n",
       "       {'first2-letters': 'ja', 'last-letter': 'y', 'first-letter': 'j', 'last2-letters': 'ly', 'last3-letters': 'zly', 'first3-letters': 'jaz'},\n",
       "       {'first2-letters': 'el', 'last-letter': 'a', 'first-letter': 'e', 'last2-letters': 'na', 'last3-letters': 'ina', 'first3-letters': 'elv'},\n",
       "       {'first2-letters': 'le', 'last-letter': 'r', 'first-letter': 'l', 'last2-letters': 'er', 'last3-letters': 'ger', 'first3-letters': 'led'}],\n",
       "      dtype=object)"
      ]
     },
     "execution_count": 43,
     "metadata": {},
     "output_type": "execute_result"
    }
   ],
   "source": [
    "dfX_train"
   ]
  },
  {
   "cell_type": "code",
   "execution_count": 44,
   "metadata": {},
   "outputs": [
    {
     "data": {
      "text/plain": [
       "<63666x8194 sparse matrix of type '<type 'numpy.float64'>'\n",
       "\twith 381996 stored elements in Compressed Sparse Row format>"
      ]
     },
     "execution_count": 44,
     "metadata": {},
     "output_type": "execute_result"
    }
   ],
   "source": [
    "\n",
    "dv = DictVectorizer()\n",
    "dv.fit_transform(dfX_train)\n"
   ]
  },
  {
   "cell_type": "code",
   "execution_count": 45,
   "metadata": {},
   "outputs": [
    {
     "data": {
      "text/plain": [
       "DecisionTreeClassifier(class_weight=None, criterion='gini', max_depth=None,\n",
       "            max_features=None, max_leaf_nodes=None,\n",
       "            min_impurity_decrease=0.0, min_impurity_split=None,\n",
       "            min_samples_leaf=1, min_samples_split=2,\n",
       "            min_weight_fraction_leaf=0.0, presort=False, random_state=None,\n",
       "            splitter='best')"
      ]
     },
     "execution_count": 45,
     "metadata": {},
     "output_type": "execute_result"
    }
   ],
   "source": [
    "# Model building Using DecisionTree\n",
    "\n",
    "from sklearn.tree import DecisionTreeClassifier\n",
    " \n",
    "dclf = DecisionTreeClassifier()\n",
    "my_xfeatures =dv.transform(dfX_train)\n",
    "dclf.fit(my_xfeatures, dfy_train)\n"
   ]
  },
  {
   "cell_type": "code",
   "execution_count": 46,
   "metadata": {
    "scrolled": true
   },
   "outputs": [],
   "source": [
    "# Build Features and Transform them\n",
    "sample_name_eg = [\"Alex\"]\n",
    "transform_dv =dv.transform(features(sample_name_eg))\n"
   ]
  },
  {
   "cell_type": "code",
   "execution_count": 47,
   "metadata": {},
   "outputs": [],
   "source": [
    "vect3 = transform_dv.toarray()"
   ]
  },
  {
   "cell_type": "code",
   "execution_count": 48,
   "metadata": {},
   "outputs": [
    {
     "data": {
      "text/plain": [
       "array([1])"
      ]
     },
     "execution_count": 48,
     "metadata": {},
     "output_type": "execute_result"
    }
   ],
   "source": [
    "# Predicting Gender of Name\n",
    "# Male is 1,female = 0\n",
    "dclf.predict(vect3)"
   ]
  },
  {
   "cell_type": "code",
   "execution_count": 49,
   "metadata": {},
   "outputs": [
    {
     "name": "stdout",
     "output_type": "stream",
     "text": [
      "Male\n"
     ]
    }
   ],
   "source": [
    "if dclf.predict(vect3) == 0:\n",
    "    print(\"Female\")\n",
    "else:\n",
    "    print(\"Male\")"
   ]
  },
  {
   "cell_type": "code",
   "execution_count": 50,
   "metadata": {},
   "outputs": [
    {
     "name": "stdout",
     "output_type": "stream",
     "text": [
      "Female\n"
     ]
    }
   ],
   "source": [
    "# Second Prediction With Nigerian Name\n",
    "name_eg1 = [\"Chioma\"]\n",
    "transform_dv =dv.transform(features(name_eg1))\n",
    "vect4 = transform_dv.toarray()\n",
    "if dclf.predict(vect4) == 0:\n",
    "    print(\"Female\")\n",
    "else:\n",
    "    print(\"Male\")"
   ]
  },
  {
   "cell_type": "code",
   "execution_count": 51,
   "metadata": {},
   "outputs": [],
   "source": [
    "# A function to do it\n",
    "def genderpredictor1(a):\n",
    "    test_name1 = [a]\n",
    "    transform_dv =dv.transform(features(test_name1))\n",
    "    vector = transform_dv.toarray()\n",
    "    if dclf.predict(vector) == 0:\n",
    "        print(\"Female\")\n",
    "    else:\n",
    "        print(\"Male\")\n",
    "    "
   ]
  },
  {
   "cell_type": "code",
   "execution_count": 52,
   "metadata": {},
   "outputs": [],
   "source": [
    "random_name_list = [\"Alex\",\"Alice\",\"Chioma\",\"Vitalic\",\"Clairese\",\"Chan\"]"
   ]
  },
  {
   "cell_type": "code",
   "execution_count": 53,
   "metadata": {},
   "outputs": [
    {
     "name": "stdout",
     "output_type": "stream",
     "text": [
      "Male\n",
      "None\n",
      "Female\n",
      "None\n",
      "Female\n",
      "None\n",
      "Male\n",
      "None\n",
      "Female\n",
      "None\n",
      "Male\n",
      "None\n"
     ]
    }
   ],
   "source": [
    "for n in random_name_list:\n",
    "    print(genderpredictor1(n))"
   ]
  },
  {
   "cell_type": "code",
   "execution_count": 54,
   "metadata": {},
   "outputs": [
    {
     "name": "stdout",
     "output_type": "stream",
     "text": [
      "0.9888951716771903\n"
     ]
    }
   ],
   "source": [
    "## Accuracy of Models Decision Tree Classifier Works better than Naive Bayes\n",
    "# Accuracy on training set\n",
    "print(dclf.score(dv.transform(dfX_train), dfy_train)) \n",
    " "
   ]
  },
  {
   "cell_type": "code",
   "execution_count": 55,
   "metadata": {},
   "outputs": [
    {
     "name": "stdout",
     "output_type": "stream",
     "text": [
      "0.8676934851238879\n"
     ]
    }
   ],
   "source": [
    "# Accuracy on test set\n",
    "print(dclf.score(dv.transform(dfX_test), dfy_test))"
   ]
  },
  {
   "cell_type": "markdown",
   "metadata": {},
   "source": [
    "### Saving Our Model"
   ]
  },
  {
   "cell_type": "code",
   "execution_count": 56,
   "metadata": {},
   "outputs": [],
   "source": [
    "from sklearn.externals import joblib"
   ]
  },
  {
   "cell_type": "code",
   "execution_count": 57,
   "metadata": {},
   "outputs": [],
   "source": [
    "decisiontreModel = open(\"decisiontreemodel.pkl\",\"wb\")"
   ]
  },
  {
   "cell_type": "code",
   "execution_count": 58,
   "metadata": {},
   "outputs": [],
   "source": [
    "joblib.dump(dclf,decisiontreModel)"
   ]
  },
  {
   "cell_type": "code",
   "execution_count": 59,
   "metadata": {},
   "outputs": [
    {
     "data": {
      "text/plain": [
       "<function close>"
      ]
     },
     "execution_count": 59,
     "metadata": {},
     "output_type": "execute_result"
    }
   ],
   "source": [
    "decisiontreModel.close"
   ]
  },
  {
   "cell_type": "code",
   "execution_count": 60,
   "metadata": {},
   "outputs": [],
   "source": [
    "#Alternative to Model Saving\n",
    "import pickle\n",
    "dctreeModel = open(\"namesdetectormodel.pkl\",\"wb\")"
   ]
  },
  {
   "cell_type": "code",
   "execution_count": 61,
   "metadata": {},
   "outputs": [],
   "source": [
    "pickle.dump(dclf,dctreeModel)"
   ]
  },
  {
   "cell_type": "code",
   "execution_count": 62,
   "metadata": {},
   "outputs": [],
   "source": [
    "dctreeModel.close()"
   ]
  },
  {
   "cell_type": "markdown",
   "metadata": {},
   "source": [
    "##### Save Multinomial NB Model"
   ]
  },
  {
   "cell_type": "code",
   "execution_count": 63,
   "metadata": {},
   "outputs": [],
   "source": [
    "NaiveBayesModel = open(\"naivebayesgendermodel.pkl\",\"wb\")"
   ]
  },
  {
   "cell_type": "code",
   "execution_count": 64,
   "metadata": {},
   "outputs": [],
   "source": [
    "joblib.dump(clf,NaiveBayesModel)"
   ]
  },
  {
   "cell_type": "code",
   "execution_count": 65,
   "metadata": {},
   "outputs": [],
   "source": [
    "NaiveBayesModel.close()"
   ]
  },
  {
   "cell_type": "code",
   "execution_count": 66,
   "metadata": {},
   "outputs": [],
   "source": [
    "# Thanks\n",
    "# By Jesse JCharis\n",
    "# Jesus Saves @ JCharisTech\n",
    "# J-Secur1ty"
   ]
  },
  {
   "cell_type": "code",
   "execution_count": null,
   "metadata": {},
   "outputs": [],
   "source": []
  }
 ],
 "metadata": {
  "kernelspec": {
   "display_name": "Python 2",
   "language": "python",
   "name": "python2"
  },
  "language_info": {
   "codemirror_mode": {
    "name": "ipython",
    "version": 2
   },
   "file_extension": ".py",
   "mimetype": "text/x-python",
   "name": "python",
   "nbconvert_exporter": "python",
   "pygments_lexer": "ipython2",
   "version": "2.7.15"
  }
 },
 "nbformat": 4,
 "nbformat_minor": 2
}
