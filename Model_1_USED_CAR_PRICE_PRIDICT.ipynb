{
 "cells": [
  {
   "cell_type": "markdown",
   "metadata": {},
   "source": [
    "## Task1 ****估测价格 liner regression****\n",
    "regreesion：piecewise liner\n",
    "price = f(年款*，公里*，MSRP，自动/手动，省*，颜色**，排气量，月份，来源，地区库存***）\n",
    "         \n",
    "feature definition:\n",
    "*省：省¥/全国¥ *100\n",
    "**颜色：省¥/全国¥ *100\n",
    "***颜色：省¥/全国¥ *100           \n",
    "****地区库存（该车发布日期前改地区的库存）  \n",
    "            \n",
    "\n",
    "Variable：\n",
    "1）公里 M1，M2，M3...； （分段）   y-price，x-miles\n",
    "2）年龄 A1，A2，A3...； （分段）\n",
    "\n",
    "Way1:raw data\n",
    "Way2:categorical\n",
    "Way3:index/derive"
   ]
  },
  {
   "cell_type": "code",
   "execution_count": 7,
   "metadata": {},
   "outputs": [],
   "source": [
    "import pandas as pd\n",
    "import numpy as np\n",
    "import re\n",
    "\n",
    "pd.set_option('display.max_columns', 500)   # print all info in cell\n",
    "pd.set_option('display.max_rows', 500) \n",
    "pd.set_option('display.max_colwidth', -1)   # print all info in cell"
   ]
  },
  {
   "cell_type": "code",
   "execution_count": 8,
   "metadata": {},
   "outputs": [],
   "source": [
    "# display chinese\n",
    "import matplotlib.font_manager as mfm\n",
    "import matplotlib.pyplot as plt\n",
    "font_path = \"/Users/wyywenyi/anaconda2/lib/python2.7/site-packages/matplotlib/mpl-data/fonts/ttf/simhei.ttf\"\n",
    "prop = mfm.FontProperties(fname=font_path)"
   ]
  },
  {
   "cell_type": "code",
   "execution_count": 9,
   "metadata": {},
   "outputs": [],
   "source": [
    "df = pd.read_csv('corolla_2006_2019_v3.csv', encoding = 'utf-8')"
   ]
  },
  {
   "cell_type": "code",
   "execution_count": 10,
   "metadata": {},
   "outputs": [],
   "source": [
    "# 排量\n",
    "\n",
    "def liter_num(liter):\n",
    "    if isinstance(liter,float):\n",
    "        pass\n",
    "    else:\n",
    "        liter = liter[liter.find('.')-1 : liter.find('.')+2]\n",
    "    \n",
    "    return liter\n",
    "    \n",
    "df['liter_num'] = df.att_liter.apply(liter_num)\n",
    "\n",
    "df = df[df.liter_num != ''].reset_index()"
   ]
  },
  {
   "cell_type": "markdown",
   "metadata": {},
   "source": [
    "### 1 - base model\n",
    "#### X: independent variabe\n",
    "* model_year\n",
    "* miles\n",
    "* manual_or_automated\n",
    "* liter\n",
    "* province\n",
    "* age_month\n",
    "* color\n",
    "* litter\n",
    "* month(publish_month)\n",
    "* source\n",
    "\n",
    "#### Y: predict varibable\n",
    "* final price\n"
   ]
  },
  {
   "cell_type": "code",
   "execution_count": 11,
   "metadata": {},
   "outputs": [
    {
     "data": {
      "text/html": [
       "<div>\n",
       "<style scoped>\n",
       "    .dataframe tbody tr th:only-of-type {\n",
       "        vertical-align: middle;\n",
       "    }\n",
       "\n",
       "    .dataframe tbody tr th {\n",
       "        vertical-align: top;\n",
       "    }\n",
       "\n",
       "    .dataframe thead th {\n",
       "        text-align: right;\n",
       "    }\n",
       "</style>\n",
       "<table border=\"1\" class=\"dataframe\">\n",
       "  <thead>\n",
       "    <tr style=\"text-align: right;\">\n",
       "      <th></th>\n",
       "      <th>index</th>\n",
       "      <th>Unnamed: 0</th>\n",
       "      <th>Unnamed: 0.1</th>\n",
       "      <th>att_if_CVT</th>\n",
       "      <th>att_if_GL</th>\n",
       "      <th>att_if_hybrid</th>\n",
       "      <th>att_if_update</th>\n",
       "      <th>att_internal_material</th>\n",
       "      <th>att_liter</th>\n",
       "      <th>att_make</th>\n",
       "      <th>att_model_name</th>\n",
       "      <th>att_trim_1</th>\n",
       "      <th>att_trim_2</th>\n",
       "      <th>id</th>\n",
       "      <th>city</th>\n",
       "      <th>auto_full_name</th>\n",
       "      <th>model_year</th>\n",
       "      <th>source</th>\n",
       "      <th>publish_date</th>\n",
       "      <th>sale_date</th>\n",
       "      <th>date_on_market</th>\n",
       "      <th>final_price</th>\n",
       "      <th>original_price</th>\n",
       "      <th>color</th>\n",
       "      <th>miles</th>\n",
       "      <th>manual_or_automated</th>\n",
       "      <th>plate_date</th>\n",
       "      <th>plate_year</th>\n",
       "      <th>age_month</th>\n",
       "      <th>price_adj</th>\n",
       "      <th>age_year</th>\n",
       "      <th>province</th>\n",
       "      <th>province_eng</th>\n",
       "      <th>liter_num</th>\n",
       "    </tr>\n",
       "  </thead>\n",
       "  <tbody>\n",
       "    <tr>\n",
       "      <th>0</th>\n",
       "      <td>0</td>\n",
       "      <td>0</td>\n",
       "      <td>0</td>\n",
       "      <td>CVT</td>\n",
       "      <td>GLi炫酷版</td>\n",
       "      <td>NaN</td>\n",
       "      <td>NaN</td>\n",
       "      <td>NaN</td>\n",
       "      <td>1.6L</td>\n",
       "      <td>Toyota</td>\n",
       "      <td>Corolla</td>\n",
       "      <td>2016款</td>\n",
       "      <td>NaN</td>\n",
       "      <td>216814907</td>\n",
       "      <td>东莞</td>\n",
       "      <td>丰田 卡罗拉 2016款 1.6L CVT GLi炫酷版</td>\n",
       "      <td>2016</td>\n",
       "      <td>merchandise_source</td>\n",
       "      <td>2019-03-25 08:05:42</td>\n",
       "      <td>2019-03-28 13:03:01</td>\n",
       "      <td>3</td>\n",
       "      <td>8.69</td>\n",
       "      <td>8.69</td>\n",
       "      <td>white</td>\n",
       "      <td>3.00</td>\n",
       "      <td>AT</td>\n",
       "      <td>2016-12-01 00:00:00</td>\n",
       "      <td>2016</td>\n",
       "      <td>27</td>\n",
       "      <td>0.0</td>\n",
       "      <td>2</td>\n",
       "      <td>广东</td>\n",
       "      <td>guangdong</td>\n",
       "      <td>1.6</td>\n",
       "    </tr>\n",
       "    <tr>\n",
       "      <th>1</th>\n",
       "      <td>1</td>\n",
       "      <td>1</td>\n",
       "      <td>17</td>\n",
       "      <td>CVT</td>\n",
       "      <td>GL</td>\n",
       "      <td>NaN</td>\n",
       "      <td>NaN</td>\n",
       "      <td>i真皮版</td>\n",
       "      <td>1.6L</td>\n",
       "      <td>Toyota</td>\n",
       "      <td>Corolla</td>\n",
       "      <td>2014款</td>\n",
       "      <td>NaN</td>\n",
       "      <td>216818028</td>\n",
       "      <td>东莞</td>\n",
       "      <td>丰田-卡罗拉 2014款 1.6L CVT GL-i真皮版</td>\n",
       "      <td>2014</td>\n",
       "      <td>platform_source</td>\n",
       "      <td>2019-03-25 09:42:23</td>\n",
       "      <td>2019-03-28 09:43:23</td>\n",
       "      <td>3</td>\n",
       "      <td>8.68</td>\n",
       "      <td>8.68</td>\n",
       "      <td>white</td>\n",
       "      <td>12.09</td>\n",
       "      <td>AT</td>\n",
       "      <td>2016-04-01 00:00:00</td>\n",
       "      <td>2016</td>\n",
       "      <td>35</td>\n",
       "      <td>0.0</td>\n",
       "      <td>2</td>\n",
       "      <td>广东</td>\n",
       "      <td>guangdong</td>\n",
       "      <td>1.6</td>\n",
       "    </tr>\n",
       "    <tr>\n",
       "      <th>2</th>\n",
       "      <td>2</td>\n",
       "      <td>2</td>\n",
       "      <td>18</td>\n",
       "      <td>CVT</td>\n",
       "      <td>GL</td>\n",
       "      <td>NaN</td>\n",
       "      <td>NaN</td>\n",
       "      <td>i真皮版</td>\n",
       "      <td>1.6L</td>\n",
       "      <td>Toyota</td>\n",
       "      <td>Corolla</td>\n",
       "      <td>2014款</td>\n",
       "      <td>NaN</td>\n",
       "      <td>216818028</td>\n",
       "      <td>东莞</td>\n",
       "      <td>丰田-卡罗拉 2014款 1.6L CVT GL-i真皮版</td>\n",
       "      <td>2014</td>\n",
       "      <td>platform_source</td>\n",
       "      <td>2019-03-25 09:42:23</td>\n",
       "      <td>2019-03-28 09:43:23</td>\n",
       "      <td>3</td>\n",
       "      <td>8.68</td>\n",
       "      <td>8.68</td>\n",
       "      <td>white</td>\n",
       "      <td>12.09</td>\n",
       "      <td>AT</td>\n",
       "      <td>2016-04-01 00:00:00</td>\n",
       "      <td>2016</td>\n",
       "      <td>35</td>\n",
       "      <td>0.0</td>\n",
       "      <td>2</td>\n",
       "      <td>广东</td>\n",
       "      <td>guangdong</td>\n",
       "      <td>1.6</td>\n",
       "    </tr>\n",
       "  </tbody>\n",
       "</table>\n",
       "</div>"
      ],
      "text/plain": [
       "   index  Unnamed: 0  Unnamed: 0.1 att_if_CVT att_if_GL att_if_hybrid  \\\n",
       "0  0      0           0             CVT        GLi炫酷版    NaN            \n",
       "1  1      1           17            CVT        GL        NaN            \n",
       "2  2      2           18            CVT        GL        NaN            \n",
       "\n",
       "  att_if_update att_internal_material att_liter att_make att_model_name  \\\n",
       "0  NaN           NaN                   1.6L      Toyota   Corolla         \n",
       "1  NaN           i真皮版                  1.6L      Toyota   Corolla         \n",
       "2  NaN           i真皮版                  1.6L      Toyota   Corolla         \n",
       "\n",
       "  att_trim_1 att_trim_2         id city                 auto_full_name  \\\n",
       "0  2016款      NaN        216814907  东莞   丰田 卡罗拉 2016款 1.6L CVT GLi炫酷版    \n",
       "1  2014款      NaN        216818028  东莞   丰田-卡罗拉 2014款 1.6L CVT GL-i真皮版   \n",
       "2  2014款      NaN        216818028  东莞   丰田-卡罗拉 2014款 1.6L CVT GL-i真皮版   \n",
       "\n",
       "   model_year              source         publish_date            sale_date  \\\n",
       "0  2016        merchandise_source  2019-03-25 08:05:42  2019-03-28 13:03:01   \n",
       "1  2014        platform_source     2019-03-25 09:42:23  2019-03-28 09:43:23   \n",
       "2  2014        platform_source     2019-03-25 09:42:23  2019-03-28 09:43:23   \n",
       "\n",
       "   date_on_market  final_price  original_price  color  miles  \\\n",
       "0  3               8.69         8.69            white  3.00    \n",
       "1  3               8.68         8.68            white  12.09   \n",
       "2  3               8.68         8.68            white  12.09   \n",
       "\n",
       "  manual_or_automated           plate_date  plate_year  age_month  price_adj  \\\n",
       "0  AT                  2016-12-01 00:00:00  2016        27         0.0         \n",
       "1  AT                  2016-04-01 00:00:00  2016        35         0.0         \n",
       "2  AT                  2016-04-01 00:00:00  2016        35         0.0         \n",
       "\n",
       "   age_year province province_eng liter_num  \n",
       "0  2         广东       guangdong    1.6       \n",
       "1  2         广东       guangdong    1.6       \n",
       "2  2         广东       guangdong    1.6       "
      ]
     },
     "execution_count": 11,
     "metadata": {},
     "output_type": "execute_result"
    }
   ],
   "source": [
    "df.head(3)"
   ]
  },
  {
   "cell_type": "code",
   "execution_count": 12,
   "metadata": {},
   "outputs": [],
   "source": [
    "model_year = pd.get_dummies(df.model_year,drop_first = True)\n",
    "miles = df.miles\n",
    "at_mt = pd.get_dummies(df.manual_or_automated,drop_first=True)\n",
    "liter = df.liter_num\n",
    "province = pd.get_dummies(df.province_eng,drop_first=True)\n",
    "age_month = df.age_month\n",
    "color = pd.get_dummies(df.color,drop_first=True)\n",
    "month = pd.to_datetime(df.publish_date).dt.month\n",
    "source = pd.get_dummies(df.source,drop_first=True)"
   ]
  },
  {
   "cell_type": "code",
   "execution_count": 13,
   "metadata": {},
   "outputs": [],
   "source": [
    "X = pd.concat([model_year,miles,at_mt,province,age_month,color,month,source],axis = 1)"
   ]
  },
  {
   "cell_type": "code",
   "execution_count": 14,
   "metadata": {},
   "outputs": [],
   "source": [
    "y = df.final_price"
   ]
  },
  {
   "cell_type": "code",
   "execution_count": 15,
   "metadata": {},
   "outputs": [],
   "source": [
    "feature_cols = X.columns"
   ]
  },
  {
   "cell_type": "code",
   "execution_count": 16,
   "metadata": {},
   "outputs": [
    {
     "data": {
      "text/plain": [
       "Index([                 2007,                  2008,                  2009,\n",
       "                        2010,                  2011,                  2012,\n",
       "                        2013,                  2014,                  2015,\n",
       "                        2016,                  2017,                  2018,\n",
       "                        2019,              u'miles',                 u'MT',\n",
       "                  u'beijing',          u'chongqing',             u'fujian',\n",
       "                    u'gansu',          u'guangdong',            u'guangxi',\n",
       "                  u'guizhou',             u'hainan',              u'hebei',\n",
       "               u'heilongjia',              u'henan',              u'hubei',\n",
       "                    u'hunan',            u'jiangsu',            u'jiangxi',\n",
       "                    u'jilin',           u'liaoning',          u'neimenggu',\n",
       "                  u'ningxia',            u'qinghai',           u'shandong',\n",
       "                 u'shanghai',            u'shannxi',             u'shanxi',\n",
       "                  u'sichuan',            u'tianjin',              u'tibet',\n",
       "                 u'xinjiang',             u'yunnan',           u'zhejiang',\n",
       "                u'age_month',              u'brown',             u'golden',\n",
       "                   u'silver',              u'white',       u'publish_date',\n",
       "       u'merchandise_source',    u'platform_source'],\n",
       "      dtype='object')"
      ]
     },
     "execution_count": 16,
     "metadata": {},
     "output_type": "execute_result"
    }
   ],
   "source": [
    "feature_cols"
   ]
  },
  {
   "cell_type": "code",
   "execution_count": 17,
   "metadata": {},
   "outputs": [],
   "source": [
    "# Splitting X and y into training and testing sets\n",
    "from sklearn.model_selection import train_test_split\n",
    "X_train, X_test, y_train, y_test = train_test_split(X, y, random_state=1)"
   ]
  },
  {
   "cell_type": "code",
   "execution_count": 18,
   "metadata": {},
   "outputs": [
    {
     "data": {
      "text/plain": [
       "LinearRegression(copy_X=True, fit_intercept=True, n_jobs=None,\n",
       "         normalize=False)"
      ]
     },
     "execution_count": 18,
     "metadata": {},
     "output_type": "execute_result"
    }
   ],
   "source": [
    "# import model\n",
    "from sklearn.linear_model import LinearRegression\n",
    "\n",
    "# instantiate\n",
    "linreg = LinearRegression()\n",
    "\n",
    "# fit the model to the training data (learn the coefficients)\n",
    "linreg.fit(X_train, y_train)"
   ]
  },
  {
   "cell_type": "code",
   "execution_count": 19,
   "metadata": {},
   "outputs": [
    {
     "name": "stdout",
     "output_type": "stream",
     "text": [
      "10.146585593413338\n",
      "[ 0.50128264  0.74003134  0.54204132  0.05600653  0.3780594   0.35803387\n",
      "  0.28610873  0.34846438  2.38395071  1.21294019  0.81536961  1.71629277\n",
      "  1.97154963 -0.02040773 -1.1975246   0.21386463  0.12181843  0.40088554\n",
      "  0.1990049   0.51315826  0.66190999  0.05150029  0.49329075  0.46311798\n",
      "  0.3231475   0.12501997  0.07789479  0.21021158  0.25113594  0.0826484\n",
      "  0.36748886  0.44869032  0.41459606  0.37775114  0.59735314  0.04525613\n",
      "  0.03645489  0.3468594   0.3515065   0.01787497  0.5414029   0.12761439\n",
      "  0.62265656  0.29828375  0.27165387 -0.05092294  0.02455556  0.07769699\n",
      "  0.03917695  0.08890964 -0.00630231  0.13072412  0.04384816]\n"
     ]
    }
   ],
   "source": [
    "# print the intercept and coefficients\n",
    "print(linreg.intercept_)\n",
    "print(linreg.coef_)"
   ]
  },
  {
   "cell_type": "code",
   "execution_count": 20,
   "metadata": {},
   "outputs": [
    {
     "data": {
      "text/plain": [
       "[(2007, 0.5012826444947542),\n",
       " (2008, 0.7400313444852905),\n",
       " (2009, 0.5420413155642927),\n",
       " (2010, 0.05600653232148595),\n",
       " (2011, 0.37805939531647337),\n",
       " (2012, 0.3580338672499973),\n",
       " (2013, 0.28610873421850025),\n",
       " (2014, 0.3484643771842232),\n",
       " (2015, 2.383950705633821),\n",
       " (2016, 1.2129401851479158),\n",
       " (2017, 0.8153696076268873),\n",
       " (2018, 1.71629276553299),\n",
       " (2019, 1.9715496319285681),\n",
       " (u'miles', -0.020407725640703367),\n",
       " (u'MT', -1.197524601342606),\n",
       " (u'beijing', 0.2138646256912608),\n",
       " (u'chongqing', 0.12181842557381113),\n",
       " (u'fujian', 0.40088553637011926),\n",
       " (u'gansu', 0.19900489537741187),\n",
       " (u'guangdong', 0.5131582649767584),\n",
       " (u'guangxi', 0.6619099902878746),\n",
       " (u'guizhou', 0.05150028860764477),\n",
       " (u'hainan', 0.49329074774849196),\n",
       " (u'hebei', 0.4631179791837218),\n",
       " (u'heilongjia', 0.3231475028091005),\n",
       " (u'henan', 0.12501997000850695),\n",
       " (u'hubei', 0.07789479192969884),\n",
       " (u'hunan', 0.21021158103549925),\n",
       " (u'jiangsu', 0.25113594054616184),\n",
       " (u'jiangxi', 0.08264839776406259),\n",
       " (u'jilin', 0.367488860025284),\n",
       " (u'liaoning', 0.4486903153980071),\n",
       " (u'neimenggu', 0.41459605672629257),\n",
       " (u'ningxia', 0.37775114017928435),\n",
       " (u'qinghai', 0.5973531449134926),\n",
       " (u'shandong', 0.0452561250635633),\n",
       " (u'shanghai', 0.0364548902419514),\n",
       " (u'shannxi', 0.3468594022424627),\n",
       " (u'shanxi', 0.3515065010193384),\n",
       " (u'sichuan', 0.017874966080602024),\n",
       " (u'tianjin', 0.5414028967097368),\n",
       " (u'tibet', 0.12761439398243735),\n",
       " (u'xinjiang', 0.6226565552607538),\n",
       " (u'yunnan', 0.2982837534082576),\n",
       " (u'zhejiang', 0.27165386873510333),\n",
       " (u'age_month', -0.050922938916485805),\n",
       " (u'brown', 0.024555560622291694),\n",
       " (u'golden', 0.07769699449958246),\n",
       " (u'silver', 0.03917694615533546),\n",
       " (u'white', 0.08890964151467115),\n",
       " (u'publish_date', -0.006302310660537103),\n",
       " (u'merchandise_source', 0.1307241188172945),\n",
       " (u'platform_source', 0.0438481602285441)]"
      ]
     },
     "execution_count": 20,
     "metadata": {},
     "output_type": "execute_result"
    }
   ],
   "source": [
    "# pair the feature names with the coefficients\n",
    "list(zip(feature_cols, linreg.coef_))"
   ]
  },
  {
   "cell_type": "code",
   "execution_count": 21,
   "metadata": {},
   "outputs": [],
   "source": [
    "# make predictions on the testing set\n",
    "y_pred = linreg.predict(X_test)"
   ]
  },
  {
   "cell_type": "code",
   "execution_count": 22,
   "metadata": {},
   "outputs": [
    {
     "name": "stdout",
     "output_type": "stream",
     "text": [
      "0.8704287318198483\n"
     ]
    }
   ],
   "source": [
    "from sklearn import metrics\n",
    "print(np.sqrt(metrics.mean_squared_error(y_test, y_pred)))"
   ]
  },
  {
   "cell_type": "code",
   "execution_count": 27,
   "metadata": {},
   "outputs": [],
   "source": [
    "X_test_1 = X_test.iloc[1,]"
   ]
  },
  {
   "cell_type": "code",
   "execution_count": 31,
   "metadata": {},
   "outputs": [
    {
     "data": {
      "text/plain": [
       "array([8.16164604])"
      ]
     },
     "execution_count": 31,
     "metadata": {},
     "output_type": "execute_result"
    }
   ],
   "source": [
    "linreg.predict([X_test_1])"
   ]
  },
  {
   "cell_type": "code",
   "execution_count": 32,
   "metadata": {},
   "outputs": [
    {
     "data": {
      "text/plain": [
       "2007                  0.00 \n",
       "2008                  0.00 \n",
       "2009                  0.00 \n",
       "2010                  0.00 \n",
       "2011                  0.00 \n",
       "2012                  0.00 \n",
       "2013                  0.00 \n",
       "2014                  1.00 \n",
       "2015                  0.00 \n",
       "2016                  0.00 \n",
       "2017                  0.00 \n",
       "2018                  0.00 \n",
       "2019                  0.00 \n",
       "miles                 5.92 \n",
       "MT                    0.00 \n",
       "beijing               0.00 \n",
       "chongqing             0.00 \n",
       "fujian                0.00 \n",
       "gansu                 0.00 \n",
       "guangdong             0.00 \n",
       "guangxi               0.00 \n",
       "guizhou               0.00 \n",
       "hainan                0.00 \n",
       "hebei                 0.00 \n",
       "heilongjia            0.00 \n",
       "henan                 0.00 \n",
       "hubei                 0.00 \n",
       "hunan                 0.00 \n",
       "jiangsu               0.00 \n",
       "jiangxi               0.00 \n",
       "jilin                 0.00 \n",
       "liaoning              0.00 \n",
       "neimenggu             0.00 \n",
       "ningxia               0.00 \n",
       "qinghai               0.00 \n",
       "shandong              0.00 \n",
       "shanghai              0.00 \n",
       "shannxi               0.00 \n",
       "shanxi                0.00 \n",
       "sichuan               1.00 \n",
       "tianjin               0.00 \n",
       "tibet                 0.00 \n",
       "xinjiang              0.00 \n",
       "yunnan                0.00 \n",
       "zhejiang              0.00 \n",
       "age_month             47.00\n",
       "brown                 0.00 \n",
       "golden                0.00 \n",
       "silver                0.00 \n",
       "white                 1.00 \n",
       "publish_date          9.00 \n",
       "merchandise_source    1.00 \n",
       "platform_source       0.00 \n",
       "Name: 39458, dtype: float64"
      ]
     },
     "execution_count": 32,
     "metadata": {},
     "output_type": "execute_result"
    }
   ],
   "source": [
    "X_test_1"
   ]
  },
  {
   "cell_type": "code",
   "execution_count": 38,
   "metadata": {},
   "outputs": [],
   "source": [
    "aa = [0,0,0,0,0,0,0,0,0,1,0,0,0,1,0,0,0,0,0,0,0,0,0,0,0,0,0,0,0,0,0,0,0,0,0,0,1,0,0,0,0,0,0,0,0,17,0,0,0,1,1,1,0]"
   ]
  },
  {
   "cell_type": "code",
   "execution_count": 39,
   "metadata": {},
   "outputs": [
    {
     "data": {
      "text/plain": [
       "array([10.72321443])"
      ]
     },
     "execution_count": 39,
     "metadata": {},
     "output_type": "execute_result"
    }
   ],
   "source": [
    "linreg.predict([aa])"
   ]
  },
  {
   "cell_type": "code",
   "execution_count": null,
   "metadata": {},
   "outputs": [],
   "source": []
  }
 ],
 "metadata": {
  "kernelspec": {
   "display_name": "Python 2",
   "language": "python",
   "name": "python2"
  },
  "language_info": {
   "codemirror_mode": {
    "name": "ipython",
    "version": 2
   },
   "file_extension": ".py",
   "mimetype": "text/x-python",
   "name": "python",
   "nbconvert_exporter": "python",
   "pygments_lexer": "ipython2",
   "version": "2.7.15"
  }
 },
 "nbformat": 4,
 "nbformat_minor": 2
}
