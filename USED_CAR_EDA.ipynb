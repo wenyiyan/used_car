{
 "cells": [
  {
   "cell_type": "markdown",
   "metadata": {},
   "source": [
    "50%用户在4年之内就卖车\n",
    "50%用户在5miles 就卖车，90%开了12 miles 卖车\n",
    "\n",
    "白色车用户爱卖车\n",
    "自动挡用户爱卖车\n",
    "\n",
    "自动挡用户3.5年卖车，手动6.5年卖车\n",
    "\t\n",
    "top 5 白,灰，黑，银，红  （灰=银）"
   ]
  },
  {
   "cell_type": "markdown",
   "metadata": {},
   "source": [
    "## Step1: load package and merge dataset"
   ]
  },
  {
   "cell_type": "code",
   "execution_count": 1,
   "metadata": {},
   "outputs": [],
   "source": [
    "import pandas as pd\n",
    "import numpy as np\n",
    "import re\n",
    "\n",
    "pd.set_option('display.max_columns', 500)   # print all info in cell\n",
    "pd.set_option('display.max_rows', 500) \n",
    "pd.set_option('display.max_colwidth', -1)  # print all info in cell"
   ]
  },
  {
   "cell_type": "code",
   "execution_count": 2,
   "metadata": {},
   "outputs": [],
   "source": [
    "# display chinese\n",
    "import matplotlib.font_manager as mfm\n",
    "import matplotlib.pyplot as plt\n",
    "font_path = \"/Users/wyywenyi/anaconda2/lib/python2.7/site-packages/matplotlib/mpl-data/fonts/ttf/simhei.ttf\"\n",
    "prop = mfm.FontProperties(fname=font_path)"
   ]
  },
  {
   "cell_type": "code",
   "execution_count": 101,
   "metadata": {},
   "outputs": [],
   "source": [
    "df_2016_2019 = pd.read_excel('丰田卡罗拉-20190328.xlsx', sheet_name = '2016-2019', encoding='utf-8' )\n",
    "df_2013_2015 = pd.read_excel('丰田卡罗拉-20190328.xlsx', sheet_name = '2013-2015', encoding='utf-8')\n",
    "df_2010_2012 = pd.read_excel('丰田卡罗拉-20190328.xlsx', sheet_name = '2010-2012', encoding='utf-8' )\n",
    "df_2006_2009 = pd.read_excel('丰田卡罗拉-20190328.xlsx', sheet_name = u'2009以前',  encoding='utf-8' )"
   ]
  },
  {
   "cell_type": "code",
   "execution_count": 277,
   "metadata": {},
   "outputs": [],
   "source": [
    "df = df_2016_2019.append(df_2013_2015).copy()\n",
    "df = df.append(df_2010_2012).copy()\n",
    "df = df.append(df_2006_2009).copy()"
   ]
  },
  {
   "cell_type": "code",
   "execution_count": 279,
   "metadata": {},
   "outputs": [],
   "source": [
    "columns_names = {u'ID':'id',u'城市':'city',u'车型':'auto_full_name',u'车款年份':'model_year',\\\n",
    "                 u'来源':'source',u'发布日期':'publish_date',u'下线日期':'sale_date',\\\n",
    "                 u'周转天数':'date_on_market',u'最后成交价':'final_price',u'初次报价':'original_price',\\\n",
    "                 u'颜色':'color',u'里程':'miles',u'档位':'manual_or_automated',u'上牌日期':'plate_date',u'上牌年':'plate_year'}\n",
    "\n",
    "df.rename(index=str, columns = columns_names,inplace = True)\n",
    "df.info()"
   ]
  },
  {
   "cell_type": "markdown",
   "metadata": {},
   "source": [
    "## Step2: Split auto full_name and output dataset"
   ]
  },
  {
   "cell_type": "code",
   "execution_count": 105,
   "metadata": {},
   "outputs": [],
   "source": [
    "# 丰田 卡罗拉 2017款 改款 1.2T CVT GLX;   #西安 莲湖区-卡罗拉 2016款 1.6L CVT GL-i炫酷版\n",
    "# 丰田：make\n",
    "# 卡罗拉：model_name\n",
    "# 改款: if_update\n",
    "# 1.2T: liter\n",
    "# CVT: transmission_type\n",
    "# GLX: trim_1\n",
    "# GL-i炫酷版: trim_1\n",
    "\n",
    "\n",
    "# 丰田:    u'\\u4e30\\u7530'\n",
    "# 卡罗拉:  u'\\u5361\\u7f57\\u62c9'\n",
    "\n",
    "\n",
    "import sys\n",
    "reload(sys)\n",
    "sys.setdefaultencoding(\"utf-8\")\n",
    "\n",
    "\n",
    "# create a dic of dic\n",
    "full_name_feature = {}\n",
    "\n",
    "for row in range(0,len(df)):\n",
    "    full_name = df.iloc[row,2]   # '卡罗拉 西安 莲湖区-卡罗拉 2016款 1.6L CVT GL-i炫酷版'\n",
    "    full_name = full_name.replace('-','|').replace('—','|').replace(' ','|').split('|')  # remove whitespace and convert into list\n",
    "    \n",
    "    feature = {}\n",
    "    \n",
    "    for i in full_name:\n",
    "        i = i.strip()              #remove white space\n",
    "        print i\n",
    "        if i == u'丰田':\n",
    "            feature['make'] = i\n",
    "       \n",
    "        elif i == u'卡罗拉':\n",
    "            feature['model_name'] = i\n",
    "        \n",
    "        elif (('L' in i) and (i[0].isdigit())) or (('T' in i) and (i[0].isdigit())):   #1.6L, 1.2T\n",
    "            feature['liter'] = i\n",
    "     \n",
    "        elif u'改' in i:                   # 改款\n",
    "            feature['if_update'] = i\n",
    "                            \n",
    "        elif u'CV' in i:                   # CVT\n",
    "            feature['if_CVT'] = i\n",
    "            \n",
    "        elif u'GL' in i:                   # GL\n",
    "            feature['if_GL'] = i\n",
    "        \n",
    "        elif u'款' in i:                   # 改款\n",
    "            feature['trim_1'] = i   \n",
    "     \n",
    "        elif u'版' in i and  u'皮' not in i  :    # 智尚版\n",
    "            feature['trim_2'] = i \n",
    "            \n",
    "        elif u'双擎' in i:                        # 双擎\n",
    "            feature['if_hybrid'] = i \n",
    "            \n",
    "        elif u'皮' in i:                         # 真皮版\n",
    "            feature['internal_material'] = i  \n",
    "        \n",
    "        else:\n",
    "            continue\n",
    "        \n",
    "        \n",
    "    full_name_feature[row] = feature"
   ]
  },
  {
   "cell_type": "code",
   "execution_count": 178,
   "metadata": {},
   "outputs": [],
   "source": [
    "df_output = pd.DataFrame(full_name_feature).T\n",
    "df_output = df_output.add_prefix('att_')"
   ]
  },
  {
   "cell_type": "code",
   "execution_count": 281,
   "metadata": {},
   "outputs": [],
   "source": [
    "df_output.to_csv('att_full_name.csv',encoding = 'utf-8')\n",
    "df.to_csv('corolla_2006_2019.csv',encoding = 'utf-8')"
   ]
  },
  {
   "cell_type": "markdown",
   "metadata": {},
   "source": [
    "## Step 3: import, clean, output dataset"
   ]
  },
  {
   "cell_type": "code",
   "execution_count": 320,
   "metadata": {},
   "outputs": [],
   "source": [
    "import pandas as pd\n",
    "pd.set_option('display.max_columns', 500)   # print all info in cell\n",
    "pd.set_option('display.max_colwidth', -1)  # print all info in cell\n",
    "\n",
    "df_output = pd.read_csv('att_full_name.csv', encoding = 'utf-8')\n",
    "df_corolla = pd.read_csv('corolla_2006_2019.csv', encoding = 'utf-8')"
   ]
  },
  {
   "cell_type": "code",
   "execution_count": 321,
   "metadata": {},
   "outputs": [],
   "source": [
    "df = df_output.merge(df_corolla,left_index = True, right_index = True, how = 'inner')\n",
    "df.drop(columns = [u'Unnamed: 0_x',u'Unnamed: 0_y'],inplace = True)"
   ]
  },
  {
   "cell_type": "code",
   "execution_count": 323,
   "metadata": {},
   "outputs": [],
   "source": [
    "## clean datetime column\n",
    "\n",
    "df = df[df.plate_date.str[0] == '2'].copy()                     # choose plate_year >= year 2000\n",
    "df.plate_date = pd.to_datetime(df.plate_date).copy()            # choose plate_date  convert into datatime\n",
    "\n",
    "df.publish_date = pd.to_datetime(df.publish_date).copy()        # choose sale_date  convert into datatime\n",
    "df.sale_date = pd.to_datetime(df.sale_date).copy()              # choose publish_date convert into datatime"
   ]
  },
  {
   "cell_type": "code",
   "execution_count": 325,
   "metadata": {},
   "outputs": [],
   "source": [
    "## compute atuo age\n",
    "\n",
    "import numpy as np\n",
    "df['age_month'] = (df.publish_date - df.plate_date)/np.timedelta64(1, 'M')\n",
    "df['age_month'] = df.age_month.astype('int')"
   ]
  },
  {
   "cell_type": "code",
   "execution_count": 326,
   "metadata": {},
   "outputs": [],
   "source": [
    "## compute price_adjustment\n",
    "\n",
    "df['price_adj'] = df.original_price - df.final_price \n",
    "df['price_adj'] = df.price_adj.fillna(0)"
   ]
  },
  {
   "cell_type": "code",
   "execution_count": 327,
   "metadata": {},
   "outputs": [],
   "source": [
    "## reset auto name\n",
    "\n",
    "df['att_make'] = 'Toyota'\n",
    "df['att_model_name'] = 'Corolla'"
   ]
  },
  {
   "cell_type": "code",
   "execution_count": 329,
   "metadata": {},
   "outputs": [],
   "source": [
    "## remove meaningless row: '同车系推荐丰田卡罗拉'  (must contains 1.2T, 1.6L )\n",
    "\n",
    "df = df[df.auto_full_name.str.contains('L') | df.auto_full_name.str.contains('T')]"
   ]
  },
  {
   "cell_type": "code",
   "execution_count": 331,
   "metadata": {},
   "outputs": [],
   "source": [
    "## drop duplicated row， subset\n",
    "## 所有的duplicate 都是出现在平台上 ‘146684136， 平台车源，商户车源’\n",
    "\n",
    "subset_column = list(df.columns)\n",
    "subset_column.remove('source') \n",
    "\n",
    "df.drop_duplicates(keep = 'first',subset = subset_column, inplace = True)"
   ]
  },
  {
   "cell_type": "code",
   "execution_count": 333,
   "metadata": {},
   "outputs": [],
   "source": [
    "df.to_csv('corolla_2006_2019_v2.csv',encoding = 'utf-8')"
   ]
  },
  {
   "cell_type": "markdown",
   "metadata": {},
   "source": [
    "## Step 4: EDA"
   ]
  },
  {
   "cell_type": "code",
   "execution_count": 189,
   "metadata": {},
   "outputs": [],
   "source": [
    "import pandas as pd\n",
    "pd.set_option('display.max_columns', 500)   # print all info in cell\n",
    "pd.set_option('display.max_colwidth', -1)  # print all info in cell\n",
    "\n",
    "df = pd.read_csv('corolla_2006_2019_v2.csv',low_memory = False)\n",
    "\n",
    "sales = pd.read_excel('corolla_new_car_sales.xlsx' ,encoding = 'utf-8')"
   ]
  },
  {
   "cell_type": "code",
   "execution_count": 190,
   "metadata": {},
   "outputs": [
    {
     "data": {
      "text/plain": [
       "Index([u'Unnamed: 0', u'att_if_CVT_x', u'att_if_GL_x', u'att_if_hybrid_x',\n",
       "       u'att_if_update_x', u'att_internal_material_x', u'att_liter_x',\n",
       "       u'att_make_x', u'att_model_name_x', u'att_trim_1_x', u'att_trim_2_x',\n",
       "       u'Unnamed: 0.1', u'att_if_CVT_y', u'att_if_GL_y', u'att_if_hybrid_y',\n",
       "       u'att_if_update_y', u'att_internal_material_y', u'att_liter_y',\n",
       "       u'att_make_y', u'att_model_name_y', u'att_trim_1_y', u'att_trim_2_y',\n",
       "       u'id', u'city', u'auto_full_name', u'model_year', u'source',\n",
       "       u'publish_date', u'sale_date', u'date_on_market', u'final_price',\n",
       "       u'original_price', u'color', u'miles', u'manual_or_automated',\n",
       "       u'plate_date', u'plate_year', u'age_month', u'price_adj', u'age_year',\n",
       "       u'att_make', u'att_model_name'],\n",
       "      dtype='object')"
      ]
     },
     "execution_count": 190,
     "metadata": {},
     "output_type": "execute_result"
    }
   ],
   "source": [
    "df.columns"
   ]
  },
  {
   "cell_type": "markdown",
   "metadata": {},
   "source": [
    "### Q0 dataset distribution"
   ]
  },
  {
   "cell_type": "code",
   "execution_count": 191,
   "metadata": {},
   "outputs": [
    {
     "data": {
      "text/plain": [
       "179585"
      ]
     },
     "execution_count": 191,
     "metadata": {},
     "output_type": "execute_result"
    }
   ],
   "source": [
    "%matplotlib inline\n",
    "from matplotlib import pyplot as plt\n",
    "len(df)"
   ]
  },
  {
   "cell_type": "code",
   "execution_count": 192,
   "metadata": {},
   "outputs": [
    {
     "data": {
      "text/html": [
       "<div>\n",
       "<style scoped>\n",
       "    .dataframe tbody tr th:only-of-type {\n",
       "        vertical-align: middle;\n",
       "    }\n",
       "\n",
       "    .dataframe tbody tr th {\n",
       "        vertical-align: top;\n",
       "    }\n",
       "\n",
       "    .dataframe thead th {\n",
       "        text-align: right;\n",
       "    }\n",
       "</style>\n",
       "<table border=\"1\" class=\"dataframe\">\n",
       "  <thead>\n",
       "    <tr style=\"text-align: right;\">\n",
       "      <th></th>\n",
       "      <th>Unnamed: 0</th>\n",
       "      <th>att_if_CVT_x</th>\n",
       "      <th>att_if_GL_x</th>\n",
       "      <th>att_if_hybrid_x</th>\n",
       "      <th>att_if_update_x</th>\n",
       "      <th>att_internal_material_x</th>\n",
       "      <th>att_liter_x</th>\n",
       "      <th>att_make_x</th>\n",
       "      <th>att_model_name_x</th>\n",
       "      <th>att_trim_1_x</th>\n",
       "      <th>att_trim_2_x</th>\n",
       "      <th>Unnamed: 0.1</th>\n",
       "      <th>att_if_CVT_y</th>\n",
       "      <th>att_if_GL_y</th>\n",
       "      <th>att_if_hybrid_y</th>\n",
       "      <th>att_if_update_y</th>\n",
       "      <th>att_internal_material_y</th>\n",
       "      <th>att_liter_y</th>\n",
       "      <th>att_make_y</th>\n",
       "      <th>att_model_name_y</th>\n",
       "      <th>att_trim_1_y</th>\n",
       "      <th>att_trim_2_y</th>\n",
       "      <th>id</th>\n",
       "      <th>city</th>\n",
       "      <th>auto_full_name</th>\n",
       "      <th>model_year</th>\n",
       "      <th>source</th>\n",
       "      <th>publish_date</th>\n",
       "      <th>sale_date</th>\n",
       "      <th>date_on_market</th>\n",
       "      <th>final_price</th>\n",
       "      <th>original_price</th>\n",
       "      <th>color</th>\n",
       "      <th>miles</th>\n",
       "      <th>manual_or_automated</th>\n",
       "      <th>plate_date</th>\n",
       "      <th>plate_year</th>\n",
       "      <th>age_month</th>\n",
       "      <th>price_adj</th>\n",
       "      <th>age_year</th>\n",
       "      <th>att_make</th>\n",
       "      <th>att_model_name</th>\n",
       "    </tr>\n",
       "  </thead>\n",
       "  <tbody>\n",
       "    <tr>\n",
       "      <th>count</th>\n",
       "      <td>179585.000000</td>\n",
       "      <td>77833</td>\n",
       "      <td>165181</td>\n",
       "      <td>5662</td>\n",
       "      <td>9150</td>\n",
       "      <td>6344</td>\n",
       "      <td>134155</td>\n",
       "      <td>100088</td>\n",
       "      <td>169348</td>\n",
       "      <td>173354</td>\n",
       "      <td>41712</td>\n",
       "      <td>179585.000000</td>\n",
       "      <td>73830</td>\n",
       "      <td>168774</td>\n",
       "      <td>5210</td>\n",
       "      <td>8587</td>\n",
       "      <td>5917</td>\n",
       "      <td>129381</td>\n",
       "      <td>179585</td>\n",
       "      <td>179585</td>\n",
       "      <td>173500</td>\n",
       "      <td>41893</td>\n",
       "      <td>1.795850e+05</td>\n",
       "      <td>179585</td>\n",
       "      <td>179585</td>\n",
       "      <td>179585.000000</td>\n",
       "      <td>179585</td>\n",
       "      <td>179585</td>\n",
       "      <td>179585</td>\n",
       "      <td>179585.000000</td>\n",
       "      <td>179585.000000</td>\n",
       "      <td>151188.000000</td>\n",
       "      <td>159365</td>\n",
       "      <td>177901.000000</td>\n",
       "      <td>178211</td>\n",
       "      <td>179585</td>\n",
       "      <td>179585.000000</td>\n",
       "      <td>179585.000000</td>\n",
       "      <td>179585.000000</td>\n",
       "      <td>179585.000000</td>\n",
       "      <td>179585</td>\n",
       "      <td>179585</td>\n",
       "    </tr>\n",
       "    <tr>\n",
       "      <th>unique</th>\n",
       "      <td>NaN</td>\n",
       "      <td>99</td>\n",
       "      <td>2823</td>\n",
       "      <td>5</td>\n",
       "      <td>21</td>\n",
       "      <td>65</td>\n",
       "      <td>107</td>\n",
       "      <td>1</td>\n",
       "      <td>1</td>\n",
       "      <td>202</td>\n",
       "      <td>722</td>\n",
       "      <td>NaN</td>\n",
       "      <td>99</td>\n",
       "      <td>3175</td>\n",
       "      <td>3</td>\n",
       "      <td>22</td>\n",
       "      <td>70</td>\n",
       "      <td>104</td>\n",
       "      <td>1</td>\n",
       "      <td>1</td>\n",
       "      <td>173</td>\n",
       "      <td>713</td>\n",
       "      <td>NaN</td>\n",
       "      <td>723</td>\n",
       "      <td>18785</td>\n",
       "      <td>NaN</td>\n",
       "      <td>3</td>\n",
       "      <td>178262</td>\n",
       "      <td>176964</td>\n",
       "      <td>NaN</td>\n",
       "      <td>NaN</td>\n",
       "      <td>NaN</td>\n",
       "      <td>14</td>\n",
       "      <td>NaN</td>\n",
       "      <td>6</td>\n",
       "      <td>215</td>\n",
       "      <td>NaN</td>\n",
       "      <td>NaN</td>\n",
       "      <td>NaN</td>\n",
       "      <td>NaN</td>\n",
       "      <td>1</td>\n",
       "      <td>1</td>\n",
       "    </tr>\n",
       "    <tr>\n",
       "      <th>top</th>\n",
       "      <td>NaN</td>\n",
       "      <td>CVT</td>\n",
       "      <td>GL</td>\n",
       "      <td>双擎</td>\n",
       "      <td>改款</td>\n",
       "      <td>i真皮版</td>\n",
       "      <td>1.6L</td>\n",
       "      <td>丰田</td>\n",
       "      <td>卡罗拉</td>\n",
       "      <td>2014款</td>\n",
       "      <td>特装版</td>\n",
       "      <td>NaN</td>\n",
       "      <td>CVT</td>\n",
       "      <td>GL</td>\n",
       "      <td>双擎</td>\n",
       "      <td>改款</td>\n",
       "      <td>i真皮版</td>\n",
       "      <td>1.6L</td>\n",
       "      <td>Toyota</td>\n",
       "      <td>Corolla</td>\n",
       "      <td>2014款</td>\n",
       "      <td>特装版</td>\n",
       "      <td>NaN</td>\n",
       "      <td>东莞</td>\n",
       "      <td>丰田 卡罗拉 2014款 1.6L CVT GL</td>\n",
       "      <td>NaN</td>\n",
       "      <td>商户车源</td>\n",
       "      <td>2018-09-03 20:29:51</td>\n",
       "      <td>2018-09-15 17:26:51</td>\n",
       "      <td>NaN</td>\n",
       "      <td>NaN</td>\n",
       "      <td>NaN</td>\n",
       "      <td>白</td>\n",
       "      <td>NaN</td>\n",
       "      <td>自动</td>\n",
       "      <td>2016-01-01 00:00:00</td>\n",
       "      <td>NaN</td>\n",
       "      <td>NaN</td>\n",
       "      <td>NaN</td>\n",
       "      <td>NaN</td>\n",
       "      <td>Toyota</td>\n",
       "      <td>Corolla</td>\n",
       "    </tr>\n",
       "    <tr>\n",
       "      <th>freq</th>\n",
       "      <td>NaN</td>\n",
       "      <td>67872</td>\n",
       "      <td>76259</td>\n",
       "      <td>5494</td>\n",
       "      <td>5611</td>\n",
       "      <td>4306</td>\n",
       "      <td>89329</td>\n",
       "      <td>100088</td>\n",
       "      <td>169348</td>\n",
       "      <td>54451</td>\n",
       "      <td>10230</td>\n",
       "      <td>NaN</td>\n",
       "      <td>64450</td>\n",
       "      <td>76260</td>\n",
       "      <td>5208</td>\n",
       "      <td>5250</td>\n",
       "      <td>3913</td>\n",
       "      <td>85679</td>\n",
       "      <td>179585</td>\n",
       "      <td>179585</td>\n",
       "      <td>52382</td>\n",
       "      <td>9607</td>\n",
       "      <td>NaN</td>\n",
       "      <td>11616</td>\n",
       "      <td>8811</td>\n",
       "      <td>NaN</td>\n",
       "      <td>148563</td>\n",
       "      <td>7</td>\n",
       "      <td>5</td>\n",
       "      <td>NaN</td>\n",
       "      <td>NaN</td>\n",
       "      <td>NaN</td>\n",
       "      <td>69771</td>\n",
       "      <td>NaN</td>\n",
       "      <td>141185</td>\n",
       "      <td>3231</td>\n",
       "      <td>NaN</td>\n",
       "      <td>NaN</td>\n",
       "      <td>NaN</td>\n",
       "      <td>NaN</td>\n",
       "      <td>179585</td>\n",
       "      <td>179585</td>\n",
       "    </tr>\n",
       "    <tr>\n",
       "      <th>mean</th>\n",
       "      <td>89792.000000</td>\n",
       "      <td>NaN</td>\n",
       "      <td>NaN</td>\n",
       "      <td>NaN</td>\n",
       "      <td>NaN</td>\n",
       "      <td>NaN</td>\n",
       "      <td>NaN</td>\n",
       "      <td>NaN</td>\n",
       "      <td>NaN</td>\n",
       "      <td>NaN</td>\n",
       "      <td>NaN</td>\n",
       "      <td>95204.486416</td>\n",
       "      <td>NaN</td>\n",
       "      <td>NaN</td>\n",
       "      <td>NaN</td>\n",
       "      <td>NaN</td>\n",
       "      <td>NaN</td>\n",
       "      <td>NaN</td>\n",
       "      <td>NaN</td>\n",
       "      <td>NaN</td>\n",
       "      <td>NaN</td>\n",
       "      <td>NaN</td>\n",
       "      <td>1.748623e+08</td>\n",
       "      <td>NaN</td>\n",
       "      <td>NaN</td>\n",
       "      <td>1965.541855</td>\n",
       "      <td>NaN</td>\n",
       "      <td>NaN</td>\n",
       "      <td>NaN</td>\n",
       "      <td>18.054136</td>\n",
       "      <td>8.058646</td>\n",
       "      <td>8.038311</td>\n",
       "      <td>NaN</td>\n",
       "      <td>5.600134</td>\n",
       "      <td>NaN</td>\n",
       "      <td>NaN</td>\n",
       "      <td>2013.039424</td>\n",
       "      <td>53.390250</td>\n",
       "      <td>0.007120</td>\n",
       "      <td>3.988624</td>\n",
       "      <td>NaN</td>\n",
       "      <td>NaN</td>\n",
       "    </tr>\n",
       "    <tr>\n",
       "      <th>std</th>\n",
       "      <td>51841.868384</td>\n",
       "      <td>NaN</td>\n",
       "      <td>NaN</td>\n",
       "      <td>NaN</td>\n",
       "      <td>NaN</td>\n",
       "      <td>NaN</td>\n",
       "      <td>NaN</td>\n",
       "      <td>NaN</td>\n",
       "      <td>NaN</td>\n",
       "      <td>NaN</td>\n",
       "      <td>NaN</td>\n",
       "      <td>55329.205606</td>\n",
       "      <td>NaN</td>\n",
       "      <td>NaN</td>\n",
       "      <td>NaN</td>\n",
       "      <td>NaN</td>\n",
       "      <td>NaN</td>\n",
       "      <td>NaN</td>\n",
       "      <td>NaN</td>\n",
       "      <td>NaN</td>\n",
       "      <td>NaN</td>\n",
       "      <td>NaN</td>\n",
       "      <td>3.317616e+07</td>\n",
       "      <td>NaN</td>\n",
       "      <td>NaN</td>\n",
       "      <td>303.921254</td>\n",
       "      <td>NaN</td>\n",
       "      <td>NaN</td>\n",
       "      <td>NaN</td>\n",
       "      <td>21.678933</td>\n",
       "      <td>3.713935</td>\n",
       "      <td>3.027042</td>\n",
       "      <td>NaN</td>\n",
       "      <td>3.728272</td>\n",
       "      <td>NaN</td>\n",
       "      <td>NaN</td>\n",
       "      <td>2.971052</td>\n",
       "      <td>33.653185</td>\n",
       "      <td>0.177082</td>\n",
       "      <td>2.816732</td>\n",
       "      <td>NaN</td>\n",
       "      <td>NaN</td>\n",
       "    </tr>\n",
       "    <tr>\n",
       "      <th>min</th>\n",
       "      <td>0.000000</td>\n",
       "      <td>NaN</td>\n",
       "      <td>NaN</td>\n",
       "      <td>NaN</td>\n",
       "      <td>NaN</td>\n",
       "      <td>NaN</td>\n",
       "      <td>NaN</td>\n",
       "      <td>NaN</td>\n",
       "      <td>NaN</td>\n",
       "      <td>NaN</td>\n",
       "      <td>NaN</td>\n",
       "      <td>0.000000</td>\n",
       "      <td>NaN</td>\n",
       "      <td>NaN</td>\n",
       "      <td>NaN</td>\n",
       "      <td>NaN</td>\n",
       "      <td>NaN</td>\n",
       "      <td>NaN</td>\n",
       "      <td>NaN</td>\n",
       "      <td>NaN</td>\n",
       "      <td>NaN</td>\n",
       "      <td>NaN</td>\n",
       "      <td>5.227702e+07</td>\n",
       "      <td>NaN</td>\n",
       "      <td>NaN</td>\n",
       "      <td>0.000000</td>\n",
       "      <td>NaN</td>\n",
       "      <td>NaN</td>\n",
       "      <td>NaN</td>\n",
       "      <td>-15.000000</td>\n",
       "      <td>0.600000</td>\n",
       "      <td>0.680000</td>\n",
       "      <td>NaN</td>\n",
       "      <td>0.000000</td>\n",
       "      <td>NaN</td>\n",
       "      <td>NaN</td>\n",
       "      <td>2000.000000</td>\n",
       "      <td>-77.000000</td>\n",
       "      <td>-22.600000</td>\n",
       "      <td>-6.000000</td>\n",
       "      <td>NaN</td>\n",
       "      <td>NaN</td>\n",
       "    </tr>\n",
       "    <tr>\n",
       "      <th>25%</th>\n",
       "      <td>44896.000000</td>\n",
       "      <td>NaN</td>\n",
       "      <td>NaN</td>\n",
       "      <td>NaN</td>\n",
       "      <td>NaN</td>\n",
       "      <td>NaN</td>\n",
       "      <td>NaN</td>\n",
       "      <td>NaN</td>\n",
       "      <td>NaN</td>\n",
       "      <td>NaN</td>\n",
       "      <td>NaN</td>\n",
       "      <td>47726.000000</td>\n",
       "      <td>NaN</td>\n",
       "      <td>NaN</td>\n",
       "      <td>NaN</td>\n",
       "      <td>NaN</td>\n",
       "      <td>NaN</td>\n",
       "      <td>NaN</td>\n",
       "      <td>NaN</td>\n",
       "      <td>NaN</td>\n",
       "      <td>NaN</td>\n",
       "      <td>NaN</td>\n",
       "      <td>1.463557e+08</td>\n",
       "      <td>NaN</td>\n",
       "      <td>NaN</td>\n",
       "      <td>2011.000000</td>\n",
       "      <td>NaN</td>\n",
       "      <td>NaN</td>\n",
       "      <td>NaN</td>\n",
       "      <td>3.000000</td>\n",
       "      <td>6.380000</td>\n",
       "      <td>6.390000</td>\n",
       "      <td>NaN</td>\n",
       "      <td>2.800000</td>\n",
       "      <td>NaN</td>\n",
       "      <td>NaN</td>\n",
       "      <td>2011.000000</td>\n",
       "      <td>25.000000</td>\n",
       "      <td>0.000000</td>\n",
       "      <td>2.000000</td>\n",
       "      <td>NaN</td>\n",
       "      <td>NaN</td>\n",
       "    </tr>\n",
       "    <tr>\n",
       "      <th>50%</th>\n",
       "      <td>89792.000000</td>\n",
       "      <td>NaN</td>\n",
       "      <td>NaN</td>\n",
       "      <td>NaN</td>\n",
       "      <td>NaN</td>\n",
       "      <td>NaN</td>\n",
       "      <td>NaN</td>\n",
       "      <td>NaN</td>\n",
       "      <td>NaN</td>\n",
       "      <td>NaN</td>\n",
       "      <td>NaN</td>\n",
       "      <td>94965.000000</td>\n",
       "      <td>NaN</td>\n",
       "      <td>NaN</td>\n",
       "      <td>NaN</td>\n",
       "      <td>NaN</td>\n",
       "      <td>NaN</td>\n",
       "      <td>NaN</td>\n",
       "      <td>NaN</td>\n",
       "      <td>NaN</td>\n",
       "      <td>NaN</td>\n",
       "      <td>NaN</td>\n",
       "      <td>1.799029e+08</td>\n",
       "      <td>NaN</td>\n",
       "      <td>NaN</td>\n",
       "      <td>2013.000000</td>\n",
       "      <td>NaN</td>\n",
       "      <td>NaN</td>\n",
       "      <td>NaN</td>\n",
       "      <td>14.000000</td>\n",
       "      <td>8.180000</td>\n",
       "      <td>8.170000</td>\n",
       "      <td>NaN</td>\n",
       "      <td>5.000000</td>\n",
       "      <td>NaN</td>\n",
       "      <td>NaN</td>\n",
       "      <td>2014.000000</td>\n",
       "      <td>47.000000</td>\n",
       "      <td>0.000000</td>\n",
       "      <td>3.000000</td>\n",
       "      <td>NaN</td>\n",
       "      <td>NaN</td>\n",
       "    </tr>\n",
       "    <tr>\n",
       "      <th>75%</th>\n",
       "      <td>134688.000000</td>\n",
       "      <td>NaN</td>\n",
       "      <td>NaN</td>\n",
       "      <td>NaN</td>\n",
       "      <td>NaN</td>\n",
       "      <td>NaN</td>\n",
       "      <td>NaN</td>\n",
       "      <td>NaN</td>\n",
       "      <td>NaN</td>\n",
       "      <td>NaN</td>\n",
       "      <td>NaN</td>\n",
       "      <td>142888.000000</td>\n",
       "      <td>NaN</td>\n",
       "      <td>NaN</td>\n",
       "      <td>NaN</td>\n",
       "      <td>NaN</td>\n",
       "      <td>NaN</td>\n",
       "      <td>NaN</td>\n",
       "      <td>NaN</td>\n",
       "      <td>NaN</td>\n",
       "      <td>NaN</td>\n",
       "      <td>NaN</td>\n",
       "      <td>2.044787e+08</td>\n",
       "      <td>NaN</td>\n",
       "      <td>NaN</td>\n",
       "      <td>2014.000000</td>\n",
       "      <td>NaN</td>\n",
       "      <td>NaN</td>\n",
       "      <td>NaN</td>\n",
       "      <td>26.000000</td>\n",
       "      <td>9.600000</td>\n",
       "      <td>9.580000</td>\n",
       "      <td>NaN</td>\n",
       "      <td>8.000000</td>\n",
       "      <td>NaN</td>\n",
       "      <td>NaN</td>\n",
       "      <td>2016.000000</td>\n",
       "      <td>79.000000</td>\n",
       "      <td>0.000000</td>\n",
       "      <td>6.000000</td>\n",
       "      <td>NaN</td>\n",
       "      <td>NaN</td>\n",
       "    </tr>\n",
       "    <tr>\n",
       "      <th>max</th>\n",
       "      <td>179584.000000</td>\n",
       "      <td>NaN</td>\n",
       "      <td>NaN</td>\n",
       "      <td>NaN</td>\n",
       "      <td>NaN</td>\n",
       "      <td>NaN</td>\n",
       "      <td>NaN</td>\n",
       "      <td>NaN</td>\n",
       "      <td>NaN</td>\n",
       "      <td>NaN</td>\n",
       "      <td>NaN</td>\n",
       "      <td>193069.000000</td>\n",
       "      <td>NaN</td>\n",
       "      <td>NaN</td>\n",
       "      <td>NaN</td>\n",
       "      <td>NaN</td>\n",
       "      <td>NaN</td>\n",
       "      <td>NaN</td>\n",
       "      <td>NaN</td>\n",
       "      <td>NaN</td>\n",
       "      <td>NaN</td>\n",
       "      <td>NaN</td>\n",
       "      <td>2.169587e+08</td>\n",
       "      <td>NaN</td>\n",
       "      <td>NaN</td>\n",
       "      <td>2019.000000</td>\n",
       "      <td>NaN</td>\n",
       "      <td>NaN</td>\n",
       "      <td>NaN</td>\n",
       "      <td>4828.000000</td>\n",
       "      <td>963.000000</td>\n",
       "      <td>788.000000</td>\n",
       "      <td>NaN</td>\n",
       "      <td>194.000000</td>\n",
       "      <td>NaN</td>\n",
       "      <td>NaN</td>\n",
       "      <td>2019.000000</td>\n",
       "      <td>196.000000</td>\n",
       "      <td>9.580000</td>\n",
       "      <td>16.000000</td>\n",
       "      <td>NaN</td>\n",
       "      <td>NaN</td>\n",
       "    </tr>\n",
       "  </tbody>\n",
       "</table>\n",
       "</div>"
      ],
      "text/plain": [
       "           Unnamed: 0 att_if_CVT_x att_if_GL_x att_if_hybrid_x  \\\n",
       "count   179585.000000  77833        165181      5662             \n",
       "unique NaN             99           2823        5                \n",
       "top    NaN             CVT          GL          双擎               \n",
       "freq   NaN             67872        76259       5494             \n",
       "mean    89792.000000   NaN          NaN         NaN              \n",
       "std     51841.868384   NaN          NaN         NaN              \n",
       "min     0.000000       NaN          NaN         NaN              \n",
       "25%     44896.000000   NaN          NaN         NaN              \n",
       "50%     89792.000000   NaN          NaN         NaN              \n",
       "75%     134688.000000  NaN          NaN         NaN              \n",
       "max     179584.000000  NaN          NaN         NaN              \n",
       "\n",
       "       att_if_update_x att_internal_material_x att_liter_x att_make_x  \\\n",
       "count   9150            6344                    134155      100088      \n",
       "unique  21              65                      107         1           \n",
       "top     改款              i真皮版                    1.6L        丰田          \n",
       "freq    5611            4306                    89329       100088      \n",
       "mean    NaN             NaN                     NaN         NaN         \n",
       "std     NaN             NaN                     NaN         NaN         \n",
       "min     NaN             NaN                     NaN         NaN         \n",
       "25%     NaN             NaN                     NaN         NaN         \n",
       "50%     NaN             NaN                     NaN         NaN         \n",
       "75%     NaN             NaN                     NaN         NaN         \n",
       "max     NaN             NaN                     NaN         NaN         \n",
       "\n",
       "       att_model_name_x att_trim_1_x att_trim_2_x   Unnamed: 0.1 att_if_CVT_y  \\\n",
       "count   169348           173354       41712        179585.000000  73830         \n",
       "unique  1                202          722         NaN             99            \n",
       "top     卡罗拉              2014款        特装版         NaN             CVT           \n",
       "freq    169348           54451        10230       NaN             64450         \n",
       "mean    NaN              NaN          NaN          95204.486416   NaN           \n",
       "std     NaN              NaN          NaN          55329.205606   NaN           \n",
       "min     NaN              NaN          NaN          0.000000       NaN           \n",
       "25%     NaN              NaN          NaN          47726.000000   NaN           \n",
       "50%     NaN              NaN          NaN          94965.000000   NaN           \n",
       "75%     NaN              NaN          NaN          142888.000000  NaN           \n",
       "max     NaN              NaN          NaN          193069.000000  NaN           \n",
       "\n",
       "       att_if_GL_y att_if_hybrid_y att_if_update_y att_internal_material_y  \\\n",
       "count   168774      5210            8587            5917                     \n",
       "unique  3175        3               22              70                       \n",
       "top     GL          双擎              改款              i真皮版                     \n",
       "freq    76260       5208            5250            3913                     \n",
       "mean    NaN         NaN             NaN             NaN                      \n",
       "std     NaN         NaN             NaN             NaN                      \n",
       "min     NaN         NaN             NaN             NaN                      \n",
       "25%     NaN         NaN             NaN             NaN                      \n",
       "50%     NaN         NaN             NaN             NaN                      \n",
       "75%     NaN         NaN             NaN             NaN                      \n",
       "max     NaN         NaN             NaN             NaN                      \n",
       "\n",
       "       att_liter_y att_make_y att_model_name_y att_trim_1_y att_trim_2_y  \\\n",
       "count   129381      179585     179585           173500       41893         \n",
       "unique  104         1          1                173          713           \n",
       "top     1.6L        Toyota     Corolla          2014款        特装版           \n",
       "freq    85679       179585     179585           52382        9607          \n",
       "mean    NaN         NaN        NaN              NaN          NaN           \n",
       "std     NaN         NaN        NaN              NaN          NaN           \n",
       "min     NaN         NaN        NaN              NaN          NaN           \n",
       "25%     NaN         NaN        NaN              NaN          NaN           \n",
       "50%     NaN         NaN        NaN              NaN          NaN           \n",
       "75%     NaN         NaN        NaN              NaN          NaN           \n",
       "max     NaN         NaN        NaN              NaN          NaN           \n",
       "\n",
       "                  id    city            auto_full_name     model_year  source  \\\n",
       "count   1.795850e+05  179585  179585                    179585.000000  179585   \n",
       "unique NaN            723     18785                    NaN             3        \n",
       "top    NaN            东莞      丰田 卡罗拉 2014款 1.6L CVT GL NaN             商户车源     \n",
       "freq   NaN            11616   8811                     NaN             148563   \n",
       "mean    1.748623e+08  NaN     NaN                       1965.541855    NaN      \n",
       "std     3.317616e+07  NaN     NaN                       303.921254     NaN      \n",
       "min     5.227702e+07  NaN     NaN                       0.000000       NaN      \n",
       "25%     1.463557e+08  NaN     NaN                       2011.000000    NaN      \n",
       "50%     1.799029e+08  NaN     NaN                       2013.000000    NaN      \n",
       "75%     2.044787e+08  NaN     NaN                       2014.000000    NaN      \n",
       "max     2.169587e+08  NaN     NaN                       2019.000000    NaN      \n",
       "\n",
       "               publish_date            sale_date  date_on_market  \\\n",
       "count   179585               179585               179585.000000    \n",
       "unique  178262               176964              NaN               \n",
       "top     2018-09-03 20:29:51  2018-09-15 17:26:51 NaN               \n",
       "freq    7                    5                   NaN               \n",
       "mean    NaN                  NaN                  18.054136        \n",
       "std     NaN                  NaN                  21.678933        \n",
       "min     NaN                  NaN                 -15.000000        \n",
       "25%     NaN                  NaN                  3.000000         \n",
       "50%     NaN                  NaN                  14.000000        \n",
       "75%     NaN                  NaN                  26.000000        \n",
       "max     NaN                  NaN                  4828.000000      \n",
       "\n",
       "          final_price  original_price   color          miles  \\\n",
       "count   179585.000000  151188.000000   159365  177901.000000   \n",
       "unique NaN            NaN              14     NaN              \n",
       "top    NaN            NaN              白      NaN              \n",
       "freq   NaN            NaN              69771  NaN              \n",
       "mean    8.058646       8.038311        NaN     5.600134        \n",
       "std     3.713935       3.027042        NaN     3.728272        \n",
       "min     0.600000       0.680000        NaN     0.000000        \n",
       "25%     6.380000       6.390000        NaN     2.800000        \n",
       "50%     8.180000       8.170000        NaN     5.000000        \n",
       "75%     9.600000       9.580000        NaN     8.000000        \n",
       "max     963.000000     788.000000      NaN     194.000000      \n",
       "\n",
       "       manual_or_automated           plate_date     plate_year      age_month  \\\n",
       "count   178211              179585               179585.000000  179585.000000   \n",
       "unique  6                   215                 NaN            NaN              \n",
       "top     自动                  2016-01-01 00:00:00 NaN            NaN              \n",
       "freq    141185              3231                NaN            NaN              \n",
       "mean    NaN                 NaN                  2013.039424    53.390250       \n",
       "std     NaN                 NaN                  2.971052       33.653185       \n",
       "min     NaN                 NaN                  2000.000000   -77.000000       \n",
       "25%     NaN                 NaN                  2011.000000    25.000000       \n",
       "50%     NaN                 NaN                  2014.000000    47.000000       \n",
       "75%     NaN                 NaN                  2016.000000    79.000000       \n",
       "max     NaN                 NaN                  2019.000000    196.000000      \n",
       "\n",
       "            price_adj       age_year att_make att_model_name  \n",
       "count   179585.000000  179585.000000  179585   179585         \n",
       "unique NaN            NaN             1        1              \n",
       "top    NaN            NaN             Toyota   Corolla        \n",
       "freq   NaN            NaN             179585   179585         \n",
       "mean    0.007120       3.988624       NaN      NaN            \n",
       "std     0.177082       2.816732       NaN      NaN            \n",
       "min    -22.600000     -6.000000       NaN      NaN            \n",
       "25%     0.000000       2.000000       NaN      NaN            \n",
       "50%     0.000000       3.000000       NaN      NaN            \n",
       "75%     0.000000       6.000000       NaN      NaN            \n",
       "max     9.580000       16.000000      NaN      NaN            "
      ]
     },
     "execution_count": 192,
     "metadata": {},
     "output_type": "execute_result"
    }
   ],
   "source": [
    "df.describe(include = 'all')"
   ]
  },
  {
   "cell_type": "markdown",
   "metadata": {},
   "source": [
    "### Q1 auto age distribution"
   ]
  },
  {
   "cell_type": "code",
   "execution_count": 193,
   "metadata": {},
   "outputs": [
    {
     "data": {
      "text/plain": [
       "count    179585.000000\n",
       "mean     53.390250    \n",
       "std      33.653185    \n",
       "min     -77.000000    \n",
       "25%      25.000000    \n",
       "50%      47.000000    \n",
       "75%      79.000000    \n",
       "max      196.000000   \n",
       "Name: age_month, dtype: float64"
      ]
     },
     "execution_count": 193,
     "metadata": {},
     "output_type": "execute_result"
    }
   ],
   "source": [
    "df.age_month.describe()"
   ]
  },
  {
   "cell_type": "code",
   "execution_count": 194,
   "metadata": {},
   "outputs": [],
   "source": [
    "age_month = df.age_month[df.age_month >= 0]"
   ]
  },
  {
   "cell_type": "code",
   "execution_count": 195,
   "metadata": {},
   "outputs": [
    {
     "data": {
      "image/png": "[encoded data removed]",
      "text/plain": [
       "<Figure size 1800x504 with 1 Axes>"
      ]
     },
     "metadata": {
      "needs_background": "light"
     },
     "output_type": "display_data"
    },
    {
     "data": {
      "image/png": "[encoded data removed]",
      "text/plain": [
       "<Figure size 1800x504 with 1 Axes>"
      ]
     },
     "metadata": {
      "needs_background": "light"
     },
     "output_type": "display_data"
    }
   ],
   "source": [
    "print '***********'\n",
    "print '*** AGE ***'\n",
    "print '***********'\n",
    "print ''\n",
    "\n",
    "print '*********** CDF distribution (x-axis:Month,y-axis:Percentage) ***********'\n",
    "print '(1)1-4 YEARS 0 -48 Month: grow rate is fast'\n",
    "print '(2)4-7 YEARS 48-84 Month: grow rate is normal'\n",
    "print '(2)7+YEARS 84+   Month: grow rate is slow'\n",
    "\n",
    "\n",
    "age_month.hist(cumulative=True, density = 1, bins=1000, figsize=(25, 7),grid = True, xlabelsize= 20,color = 'green')\n",
    "plt.show()\n",
    "\n",
    "print '***********  PDF distribution (x-axis:Month,y-axis:Percentage) *********** '\n",
    "age_month.hist(cumulative=False, density=1, bins=90, figsize=(25, 7),grid = True, xlabelsize= 20,color =  'green')\n",
    "plt.show()"
   ]
  },
  {
   "cell_type": "code",
   "execution_count": 196,
   "metadata": {},
   "outputs": [],
   "source": [
    "#age_month.value_counts(normalize=True).sort_index(ascending = True)"
   ]
  },
  {
   "cell_type": "markdown",
   "metadata": {},
   "source": [
    "### Q2 mile distribution"
   ]
  },
  {
   "cell_type": "code",
   "execution_count": 197,
   "metadata": {},
   "outputs": [
    {
     "data": {
      "text/plain": [
       "count    177901.000000\n",
       "mean     5.600134     \n",
       "std      3.728272     \n",
       "min      0.000000     \n",
       "25%      2.800000     \n",
       "50%      5.000000     \n",
       "75%      8.000000     \n",
       "max      194.000000   \n",
       "Name: miles, dtype: float64"
      ]
     },
     "execution_count": 197,
     "metadata": {},
     "output_type": "execute_result"
    }
   ],
   "source": [
    "df.miles.describe()"
   ]
  },
  {
   "cell_type": "code",
   "execution_count": 198,
   "metadata": {},
   "outputs": [],
   "source": [
    "miles = df.miles[df.miles <= 25]"
   ]
  },
  {
   "cell_type": "code",
   "execution_count": 199,
   "metadata": {
    "scrolled": true
   },
   "outputs": [
    {
     "data": {
      "image/png": "[encoded data removed]",
      "text/plain": [
       "<Figure size 1800x504 with 1 Axes>"
      ]
     },
     "metadata": {
      "needs_background": "light"
     },
     "output_type": "display_data"
    },
    {
     "data": {
      "image/png": "[encoded data removed]",
      "text/plain": [
       "<Figure size 1800x504 with 1 Axes>"
      ]
     },
     "metadata": {
      "needs_background": "light"
     },
     "output_type": "display_data"
    }
   ],
   "source": [
    "print '***********'\n",
    "print '*** MILES ***'\n",
    "print '***********'\n",
    "print ''\n",
    "\n",
    "print '*********** CDF distribution (x-axis:Miles,y-axis:Percentage) ***********'\n",
    "miles.hist(cumulative=True, density = 1, bins=1000, figsize=(25, 7),grid = True, xlabelsize= 20,color = 'orange')\n",
    "plt.show()\n",
    "\n",
    "print '*********** PDF distribution (x-axis:Miles,y-axis:Percentage) ***********'\n",
    "miles.hist(cumulative=False, density=1, bins=25, figsize=(25, 7),grid = True, xlabelsize= 20,color = 'orange')\n",
    "plt.show()"
   ]
  },
  {
   "cell_type": "markdown",
   "metadata": {},
   "source": [
    "### Q3 model year"
   ]
  },
  {
   "cell_type": "code",
   "execution_count": 200,
   "metadata": {},
   "outputs": [
    {
     "data": {
      "text/plain": [
       "count    179585.000000\n",
       "mean     1965.541855  \n",
       "std      303.921254   \n",
       "min      0.000000     \n",
       "25%      2011.000000  \n",
       "50%      2013.000000  \n",
       "75%      2014.000000  \n",
       "max      2019.000000  \n",
       "Name: model_year, dtype: float64"
      ]
     },
     "execution_count": 200,
     "metadata": {},
     "output_type": "execute_result"
    }
   ],
   "source": [
    "df.model_year.describe()"
   ]
  },
  {
   "cell_type": "code",
   "execution_count": 201,
   "metadata": {},
   "outputs": [],
   "source": [
    "model_year = df.model_year[df.model_year > 0]"
   ]
  },
  {
   "cell_type": "code",
   "execution_count": 202,
   "metadata": {},
   "outputs": [
    {
     "data": {
      "image/png": "[encoded data removed]",
      "text/plain": [
       "<Figure size 1800x504 with 1 Axes>"
      ]
     },
     "metadata": {
      "needs_background": "light"
     },
     "output_type": "display_data"
    }
   ],
   "source": [
    "print '*******************'\n",
    "print '*** Model  Year ***'\n",
    "print '*******************'\n",
    "print ''\n",
    "\n",
    "print '*********** PDF distribution (x-axis:Year,y-axis:Percentage) ***********'\n",
    "print '(1) Model year 2014 >=30%'\n",
    "model_year.hist(cumulative=False, density=1, bins=14, figsize=(25, 7),grid = True, xlabelsize= 20,color = 'lightblue')\n",
    "plt.show()"
   ]
  },
  {
   "cell_type": "code",
   "execution_count": 203,
   "metadata": {},
   "outputs": [
    {
     "data": {
      "text/plain": [
       "2019    0.000034\n",
       "2018    0.004054\n",
       "2017    0.098750\n",
       "2016    0.078453\n",
       "2015    0.000040\n",
       "2014    0.304621\n",
       "2013    0.092479\n",
       "2012    0.066206\n",
       "2011    0.148160\n",
       "2010    0.000097\n",
       "2009    0.061217\n",
       "2008    0.058503\n",
       "2007    0.087359\n",
       "2006    0.000029\n",
       "Name: model_year, dtype: float64"
      ]
     },
     "execution_count": 203,
     "metadata": {},
     "output_type": "execute_result"
    }
   ],
   "source": [
    "model_year.value_counts(normalize=True).sort_index(ascending = False)"
   ]
  },
  {
   "cell_type": "code",
   "execution_count": 204,
   "metadata": {},
   "outputs": [
    {
     "data": {
      "image/png": "[encoded data removed]",
      "text/plain": [
       "<Figure size 432x288 with 1 Axes>"
      ]
     },
     "metadata": {
      "needs_background": "light"
     },
     "output_type": "display_data"
    }
   ],
   "source": [
    "sales.groupby(sales.ym.dt.year).sales.sum().plot(kind = 'bar') \n",
    "plt.show()"
   ]
  },
  {
   "cell_type": "code",
   "execution_count": 205,
   "metadata": {},
   "outputs": [
    {
     "data": {
      "text/html": [
       "<div>\n",
       "<style scoped>\n",
       "    .dataframe tbody tr th:only-of-type {\n",
       "        vertical-align: middle;\n",
       "    }\n",
       "\n",
       "    .dataframe tbody tr th {\n",
       "        vertical-align: top;\n",
       "    }\n",
       "\n",
       "    .dataframe thead th {\n",
       "        text-align: right;\n",
       "    }\n",
       "</style>\n",
       "<table border=\"1\" class=\"dataframe\">\n",
       "  <thead>\n",
       "    <tr style=\"text-align: right;\">\n",
       "      <th></th>\n",
       "      <th>model_year</th>\n",
       "      <th>sales</th>\n",
       "      <th>0</th>\n",
       "    </tr>\n",
       "  </thead>\n",
       "  <tbody>\n",
       "    <tr>\n",
       "      <th>2006</th>\n",
       "      <td>5</td>\n",
       "      <td>NaN</td>\n",
       "      <td>NaN</td>\n",
       "    </tr>\n",
       "    <tr>\n",
       "      <th>2007</th>\n",
       "      <td>15322</td>\n",
       "      <td>65844.0</td>\n",
       "      <td>0.232702</td>\n",
       "    </tr>\n",
       "    <tr>\n",
       "      <th>2008</th>\n",
       "      <td>10261</td>\n",
       "      <td>165270.0</td>\n",
       "      <td>0.062086</td>\n",
       "    </tr>\n",
       "    <tr>\n",
       "      <th>2009</th>\n",
       "      <td>10737</td>\n",
       "      <td>157457.0</td>\n",
       "      <td>0.068190</td>\n",
       "    </tr>\n",
       "    <tr>\n",
       "      <th>2010</th>\n",
       "      <td>17</td>\n",
       "      <td>172053.0</td>\n",
       "      <td>0.000099</td>\n",
       "    </tr>\n",
       "    <tr>\n",
       "      <th>2011</th>\n",
       "      <td>25986</td>\n",
       "      <td>170117.0</td>\n",
       "      <td>0.152754</td>\n",
       "    </tr>\n",
       "    <tr>\n",
       "      <th>2012</th>\n",
       "      <td>11612</td>\n",
       "      <td>151887.0</td>\n",
       "      <td>0.076452</td>\n",
       "    </tr>\n",
       "    <tr>\n",
       "      <th>2013</th>\n",
       "      <td>16220</td>\n",
       "      <td>146480.0</td>\n",
       "      <td>0.110732</td>\n",
       "    </tr>\n",
       "    <tr>\n",
       "      <th>2014</th>\n",
       "      <td>53428</td>\n",
       "      <td>171486.0</td>\n",
       "      <td>0.311559</td>\n",
       "    </tr>\n",
       "    <tr>\n",
       "      <th>2015</th>\n",
       "      <td>7</td>\n",
       "      <td>254301.0</td>\n",
       "      <td>0.000028</td>\n",
       "    </tr>\n",
       "    <tr>\n",
       "      <th>2016</th>\n",
       "      <td>13760</td>\n",
       "      <td>306541.0</td>\n",
       "      <td>0.044888</td>\n",
       "    </tr>\n",
       "    <tr>\n",
       "      <th>2017</th>\n",
       "      <td>17320</td>\n",
       "      <td>333488.0</td>\n",
       "      <td>0.051936</td>\n",
       "    </tr>\n",
       "    <tr>\n",
       "      <th>2018</th>\n",
       "      <td>711</td>\n",
       "      <td>376077.0</td>\n",
       "      <td>0.001891</td>\n",
       "    </tr>\n",
       "    <tr>\n",
       "      <th>2019</th>\n",
       "      <td>6</td>\n",
       "      <td>56708.0</td>\n",
       "      <td>0.000106</td>\n",
       "    </tr>\n",
       "  </tbody>\n",
       "</table>\n",
       "</div>"
      ],
      "text/plain": [
       "      model_year     sales         0\n",
       "2006  5          NaN       NaN      \n",
       "2007  15322       65844.0   0.232702\n",
       "2008  10261       165270.0  0.062086\n",
       "2009  10737       157457.0  0.068190\n",
       "2010  17          172053.0  0.000099\n",
       "2011  25986       170117.0  0.152754\n",
       "2012  11612       151887.0  0.076452\n",
       "2013  16220       146480.0  0.110732\n",
       "2014  53428       171486.0  0.311559\n",
       "2015  7           254301.0  0.000028\n",
       "2016  13760       306541.0  0.044888\n",
       "2017  17320       333488.0  0.051936\n",
       "2018  711         376077.0  0.001891\n",
       "2019  6           56708.0   0.000106"
      ]
     },
     "execution_count": 205,
     "metadata": {},
     "output_type": "execute_result"
    }
   ],
   "source": [
    "new_sale = sales.groupby(sales.ym.dt.year).sales.sum() \n",
    "old_sale = model_year.value_counts()\n",
    "pd.concat([old_sale,new_sale,old_sale/new_sale ],axis = 1)"
   ]
  },
  {
   "cell_type": "markdown",
   "metadata": {},
   "source": [
    "## Q4 周转天数"
   ]
  },
  {
   "cell_type": "code",
   "execution_count": 206,
   "metadata": {},
   "outputs": [
    {
     "data": {
      "text/plain": [
       "count    179585.000000\n",
       "mean     18.054136    \n",
       "std      21.678933    \n",
       "min     -15.000000    \n",
       "25%      3.000000     \n",
       "50%      14.000000    \n",
       "75%      26.000000    \n",
       "max      4828.000000  \n",
       "Name: date_on_market, dtype: float64"
      ]
     },
     "execution_count": 206,
     "metadata": {},
     "output_type": "execute_result"
    }
   ],
   "source": [
    "df.date_on_market.describe()"
   ]
  },
  {
   "cell_type": "code",
   "execution_count": 207,
   "metadata": {},
   "outputs": [],
   "source": [
    "date_on_market = df.date_on_market[(df.date_on_market >= 0) & (df.date_on_market <= 120)]"
   ]
  },
  {
   "cell_type": "code",
   "execution_count": 208,
   "metadata": {},
   "outputs": [
    {
     "data": {
      "image/png": "[encoded data removed]",
      "text/plain": [
       "<Figure size 1800x504 with 1 Axes>"
      ]
     },
     "metadata": {
      "needs_background": "light"
     },
     "output_type": "display_data"
    },
    {
     "data": {
      "image/png": "[encoded data removed]",
      "text/plain": [
       "<Figure size 1800x504 with 1 Axes>"
      ]
     },
     "metadata": {
      "needs_background": "light"
     },
     "output_type": "display_data"
    }
   ],
   "source": [
    "print '**********************'\n",
    "print '*** days_on_market ***'\n",
    "print '**********************'\n",
    "print ''\n",
    "\n",
    "print '*********** CDF distribution (x-axis:Year,y-axis:Percentage) ***********'\n",
    "print '(1) 0-30days >=80%'\n",
    "\n",
    "date_on_market.hist(cumulative=True, density=1, bins=1000, figsize=(25, 7),grid = True, xlabelsize= 20,color = 'goldenrod')\n",
    "plt.show()\n",
    "\n",
    "print '*********** PDF distribution (x-axis:Year,y-axis:Percentage) ***********'\n",
    "print '(1) 1 day  = 16%'\n",
    "print '(2) 2 days = 4%'\n",
    "print '(3) 3 days = 3%'\n",
    "date_on_market.hist(cumulative=False, density=1, bins=120, figsize=(25, 7),grid = True, xlabelsize= 20,color = 'goldenrod')\n",
    "plt.show()"
   ]
  },
  {
   "cell_type": "markdown",
   "metadata": {},
   "source": [
    "## Q5 source"
   ]
  },
  {
   "cell_type": "code",
   "execution_count": 209,
   "metadata": {},
   "outputs": [
    {
     "data": {
      "text/plain": [
       "商户车源    0.827257\n",
       "平台车源    0.138814\n",
       "个人车源    0.033928\n",
       "Name: source, dtype: float64"
      ]
     },
     "execution_count": 209,
     "metadata": {},
     "output_type": "execute_result"
    }
   ],
   "source": [
    "df.source.value_counts(normalize=True)"
   ]
  },
  {
   "cell_type": "code",
   "execution_count": 210,
   "metadata": {},
   "outputs": [
    {
     "data": {
      "image/png": "[encoded data removed]",
      "text/plain": [
       "<Figure size 432x288 with 1 Axes>"
      ]
     },
     "metadata": {
      "needs_background": "light"
     },
     "output_type": "display_data"
    }
   ],
   "source": [
    "df.source.value_counts(normalize=True).plot(kind = 'bar')\n",
    "plt.show()"
   ]
  },
  {
   "cell_type": "markdown",
   "metadata": {},
   "source": [
    "## Q6 车龄和售价的关系"
   ]
  },
  {
   "cell_type": "code",
   "execution_count": 211,
   "metadata": {},
   "outputs": [
    {
     "data": {
      "text/plain": [
       "count    179585.000000\n",
       "mean     8.058646     \n",
       "std      3.713935     \n",
       "min      0.600000     \n",
       "25%      6.380000     \n",
       "50%      8.180000     \n",
       "75%      9.600000     \n",
       "max      963.000000   \n",
       "Name: final_price, dtype: float64"
      ]
     },
     "execution_count": 211,
     "metadata": {},
     "output_type": "execute_result"
    }
   ],
   "source": [
    "df.final_price.describe()"
   ]
  },
  {
   "cell_type": "code",
   "execution_count": 212,
   "metadata": {},
   "outputs": [],
   "source": [
    "df['age_year'] = (pd.to_datetime(df.publish_date) - pd.to_datetime(df.plate_date))/np.timedelta64(1, 'Y')\n",
    "df['age_year'] = df.age_year.astype('int')"
   ]
  },
  {
   "cell_type": "code",
   "execution_count": 213,
   "metadata": {},
   "outputs": [
    {
     "data": {
      "image/png": "[encoded data removed]",
      "text/plain": [
       "<Figure size 1440x504 with 1 Axes>"
      ]
     },
     "metadata": {
      "needs_background": "light"
     },
     "output_type": "display_data"
    }
   ],
   "source": [
    "print '--- 成交价分布 ---' \n",
    "df.loc[(df.final_price <= 15.00),'final_price'].hist(density=1, bins=20,figsize = (20,7))\n",
    "plt.show()"
   ]
  },
  {
   "cell_type": "code",
   "execution_count": 214,
   "metadata": {},
   "outputs": [
    {
     "data": {
      "image/png": "[encoded data removed]",
      "text/plain": [
       "<Figure size 1440x360 with 1 Axes>"
      ]
     },
     "metadata": {
      "needs_background": "light"
     },
     "output_type": "display_data"
    },
    {
     "data": {
      "image/png": "[encoded data removed]",
      "text/plain": [
       "<Figure size 1440x360 with 1 Axes>"
      ]
     },
     "metadata": {
      "needs_background": "light"
     },
     "output_type": "display_data"
    },
    {
     "data": {
      "image/png": "[encoded data removed]",
      "text/plain": [
       "<Figure size 1440x360 with 1 Axes>"
      ]
     },
     "metadata": {
      "needs_background": "light"
     },
     "output_type": "display_data"
    },
    {
     "data": {
      "image/png": "[encoded data removed]",
      "text/plain": [
       "<Figure size 1440x360 with 1 Axes>"
      ]
     },
     "metadata": {
      "needs_background": "light"
     },
     "output_type": "display_data"
    },
    {
     "data": {
      "image/png": "[encoded data removed]",
      "text/plain": [
       "<Figure size 1440x360 with 1 Axes>"
      ]
     },
     "metadata": {
      "needs_background": "light"
     },
     "output_type": "display_data"
    },
    {
     "data": {
      "image/png": "[encoded data removed]",
      "text/plain": [
       "<Figure size 1440x360 with 1 Axes>"
      ]
     },
     "metadata": {
      "needs_background": "light"
     },
     "output_type": "display_data"
    },
    {
     "data": {
      "image/png": "[encoded data removed]",
      "text/plain": [
       "<Figure size 1440x360 with 1 Axes>"
      ]
     },
     "metadata": {
      "needs_background": "light"
     },
     "output_type": "display_data"
    },
    {
     "data": {
      "image/png": "[encoded data removed]",
      "text/plain": [
       "<Figure size 1440x360 with 1 Axes>"
      ]
     },
     "metadata": {
      "needs_background": "light"
     },
     "output_type": "display_data"
    },
    {
     "data": {
      "image/png": "[encoded data removed]",
      "text/plain": [
       "<Figure size 1440x360 with 1 Axes>"
      ]
     },
     "metadata": {
      "needs_background": "light"
     },
     "output_type": "display_data"
    },
    {
     "data": {
      "image/png": "[encoded data removed]",
      "text/plain": [
       "<Figure size 1440x360 with 1 Axes>"
      ]
     },
     "metadata": {
      "needs_background": "light"
     },
     "output_type": "display_data"
    },
    {
     "data": {
      "image/png": "[encoded data removed]",
      "text/plain": [
       "<Figure size 1440x360 with 1 Axes>"
      ]
     },
     "metadata": {
      "needs_background": "light"
     },
     "output_type": "display_data"
    },
    {
     "data": {
      "image/png": "[encoded data removed]",
      "text/plain": [
       "<Figure size 1440x360 with 1 Axes>"
      ]
     },
     "metadata": {
      "needs_background": "light"
     },
     "output_type": "display_data"
    },
    {
     "data": {
      "image/png": "[encoded data removed]",
      "text/plain": [
       "<Figure size 1440x360 with 1 Axes>"
      ]
     },
     "metadata": {
      "needs_background": "light"
     },
     "output_type": "display_data"
    },
    {
     "data": {
      "image/png": "[encoded data removed]",
      "text/plain": [
       "<Figure size 1440x360 with 1 Axes>"
      ]
     },
     "metadata": {
      "needs_background": "light"
     },
     "output_type": "display_data"
    },
    {
     "data": {
      "image/png": "[encoded data removed]",
      "text/plain": [
       "<Figure size 1440x360 with 1 Axes>"
      ]
     },
     "metadata": {
      "needs_background": "light"
     },
     "output_type": "display_data"
    }
   ],
   "source": [
    "for i in range (1,16):\n",
    "    print '车龄与成交价的关系--- 车龄 %s 年---' %(i) \n",
    "    df.loc[((df.age_year == i) & (df.final_price <= 15.00)),'final_price'].hist(density=1, bins=20,figsize = (20,5))\n",
    "    plt.show()"
   ]
  },
  {
   "cell_type": "code",
   "execution_count": 215,
   "metadata": {},
   "outputs": [
    {
     "data": {
      "image/png": "[encoded data removed]",
      "text/plain": [
       "<Figure size 1440x504 with 1 Axes>"
      ]
     },
     "metadata": {
      "needs_background": "light"
     },
     "output_type": "display_data"
    }
   ],
   "source": [
    "print '车龄与中位成交价的关系--- x-axis: 车龄(年)  y-axis:成交价(万)---'  \n",
    "\n",
    "d1 = df[df.age_year >=0]\n",
    "d1.groupby('age_year').final_price.agg(['median','mean',]).plot(kind='line', figsize = (20,7),fontsize = 20)\n",
    "plt.show()"
   ]
  },
  {
   "cell_type": "code",
   "execution_count": 216,
   "metadata": {},
   "outputs": [
    {
     "data": {
      "text/html": [
       "<div>\n",
       "<style scoped>\n",
       "    .dataframe tbody tr th:only-of-type {\n",
       "        vertical-align: middle;\n",
       "    }\n",
       "\n",
       "    .dataframe tbody tr th {\n",
       "        vertical-align: top;\n",
       "    }\n",
       "\n",
       "    .dataframe thead th {\n",
       "        text-align: right;\n",
       "    }\n",
       "</style>\n",
       "<table border=\"1\" class=\"dataframe\">\n",
       "  <thead>\n",
       "    <tr style=\"text-align: right;\">\n",
       "      <th></th>\n",
       "      <th>median</th>\n",
       "      <th>mean</th>\n",
       "    </tr>\n",
       "    <tr>\n",
       "      <th>age_year</th>\n",
       "      <th></th>\n",
       "      <th></th>\n",
       "    </tr>\n",
       "  </thead>\n",
       "  <tbody>\n",
       "    <tr>\n",
       "      <th>0</th>\n",
       "      <td>10.980</td>\n",
       "      <td>11.095189</td>\n",
       "    </tr>\n",
       "    <tr>\n",
       "      <th>1</th>\n",
       "      <td>10.280</td>\n",
       "      <td>10.412919</td>\n",
       "    </tr>\n",
       "    <tr>\n",
       "      <th>2</th>\n",
       "      <td>9.300</td>\n",
       "      <td>9.431338</td>\n",
       "    </tr>\n",
       "    <tr>\n",
       "      <th>3</th>\n",
       "      <td>8.680</td>\n",
       "      <td>8.624612</td>\n",
       "    </tr>\n",
       "    <tr>\n",
       "      <th>4</th>\n",
       "      <td>7.800</td>\n",
       "      <td>7.740903</td>\n",
       "    </tr>\n",
       "    <tr>\n",
       "      <th>5</th>\n",
       "      <td>7.200</td>\n",
       "      <td>7.125140</td>\n",
       "    </tr>\n",
       "    <tr>\n",
       "      <th>6</th>\n",
       "      <td>6.580</td>\n",
       "      <td>6.514240</td>\n",
       "    </tr>\n",
       "    <tr>\n",
       "      <th>7</th>\n",
       "      <td>5.880</td>\n",
       "      <td>5.895130</td>\n",
       "    </tr>\n",
       "    <tr>\n",
       "      <th>8</th>\n",
       "      <td>5.300</td>\n",
       "      <td>5.322696</td>\n",
       "    </tr>\n",
       "    <tr>\n",
       "      <th>9</th>\n",
       "      <td>4.800</td>\n",
       "      <td>4.807114</td>\n",
       "    </tr>\n",
       "    <tr>\n",
       "      <th>10</th>\n",
       "      <td>4.275</td>\n",
       "      <td>4.262823</td>\n",
       "    </tr>\n",
       "    <tr>\n",
       "      <th>11</th>\n",
       "      <td>3.680</td>\n",
       "      <td>3.571841</td>\n",
       "    </tr>\n",
       "    <tr>\n",
       "      <th>12</th>\n",
       "      <td>1.000</td>\n",
       "      <td>1.010000</td>\n",
       "    </tr>\n",
       "    <tr>\n",
       "      <th>13</th>\n",
       "      <td>1.000</td>\n",
       "      <td>0.938710</td>\n",
       "    </tr>\n",
       "    <tr>\n",
       "      <th>14</th>\n",
       "      <td>0.800</td>\n",
       "      <td>0.857561</td>\n",
       "    </tr>\n",
       "    <tr>\n",
       "      <th>15</th>\n",
       "      <td>0.880</td>\n",
       "      <td>0.898205</td>\n",
       "    </tr>\n",
       "    <tr>\n",
       "      <th>16</th>\n",
       "      <td>0.800</td>\n",
       "      <td>0.856613</td>\n",
       "    </tr>\n",
       "  </tbody>\n",
       "</table>\n",
       "</div>"
      ],
      "text/plain": [
       "          median       mean\n",
       "age_year                   \n",
       "0         10.980  11.095189\n",
       "1         10.280  10.412919\n",
       "2         9.300   9.431338 \n",
       "3         8.680   8.624612 \n",
       "4         7.800   7.740903 \n",
       "5         7.200   7.125140 \n",
       "6         6.580   6.514240 \n",
       "7         5.880   5.895130 \n",
       "8         5.300   5.322696 \n",
       "9         4.800   4.807114 \n",
       "10        4.275   4.262823 \n",
       "11        3.680   3.571841 \n",
       "12        1.000   1.010000 \n",
       "13        1.000   0.938710 \n",
       "14        0.800   0.857561 \n",
       "15        0.880   0.898205 \n",
       "16        0.800   0.856613 "
      ]
     },
     "execution_count": 216,
     "metadata": {},
     "output_type": "execute_result"
    }
   ],
   "source": [
    "median_avg_price = d1.groupby('age_year').final_price.agg(['median','mean'])\n",
    "median_avg_price"
   ]
  },
  {
   "cell_type": "code",
   "execution_count": 217,
   "metadata": {},
   "outputs": [
    {
     "data": {
      "text/plain": [
       "age_year\n",
       "0     0.000 \n",
       "1    -0.700 \n",
       "2    -1.680 \n",
       "3    -2.300 \n",
       "4    -3.180 \n",
       "5    -3.780 \n",
       "6    -4.400 \n",
       "7    -5.100 \n",
       "8    -5.680 \n",
       "9    -6.180 \n",
       "10   -6.705 \n",
       "11   -7.300 \n",
       "12   -9.980 \n",
       "13   -9.980 \n",
       "14   -10.180\n",
       "15   -10.100\n",
       "16   -10.180\n",
       "Name: median, dtype: float64"
      ]
     },
     "execution_count": 217,
     "metadata": {},
     "output_type": "execute_result"
    }
   ],
   "source": [
    "# depreciation everyyear\n",
    "year_0 = median_avg_price.loc[0,'median']\n",
    "median_avg_price.loc[:,'median']  - year_0"
   ]
  },
  {
   "cell_type": "markdown",
   "metadata": {},
   "source": [
    "## Q7 操控"
   ]
  },
  {
   "cell_type": "code",
   "execution_count": 218,
   "metadata": {},
   "outputs": [
    {
     "data": {
      "text/plain": [
       "自动            0.792235\n",
       "手动            0.205711\n",
       "手自一体          0.002009\n",
       "8挡 CVT无级变速    0.000028\n",
       "CVT无级变速       0.000011\n",
       "5挡 手动         0.000006\n",
       "Name: manual_or_automated, dtype: float64"
      ]
     },
     "execution_count": 218,
     "metadata": {},
     "output_type": "execute_result"
    }
   ],
   "source": [
    "df.manual_or_automated.value_counts(normalize=True)"
   ]
  },
  {
   "cell_type": "code",
   "execution_count": 219,
   "metadata": {},
   "outputs": [
    {
     "data": {
      "image/png": "[encoded data removed]",
      "text/plain": [
       "<Figure size 432x288 with 1 Axes>"
      ]
     },
     "metadata": {
      "needs_background": "light"
     },
     "output_type": "display_data"
    }
   ],
   "source": [
    "print '------ 手自动占比 ------'  \n",
    "df.manual_or_automated.value_counts(normalize=True).plot(kind = 'bar')\n",
    "plt.show()"
   ]
  },
  {
   "cell_type": "code",
   "execution_count": 220,
   "metadata": {},
   "outputs": [
    {
     "data": {
      "text/html": [
       "<div>\n",
       "<style scoped>\n",
       "    .dataframe tbody tr th:only-of-type {\n",
       "        vertical-align: middle;\n",
       "    }\n",
       "\n",
       "    .dataframe tbody tr th {\n",
       "        vertical-align: top;\n",
       "    }\n",
       "\n",
       "    .dataframe thead th {\n",
       "        text-align: right;\n",
       "    }\n",
       "</style>\n",
       "<table border=\"1\" class=\"dataframe\">\n",
       "  <thead>\n",
       "    <tr style=\"text-align: right;\">\n",
       "      <th></th>\n",
       "      <th>count</th>\n",
       "      <th>max</th>\n",
       "      <th>min</th>\n",
       "      <th>median</th>\n",
       "      <th>mean</th>\n",
       "    </tr>\n",
       "    <tr>\n",
       "      <th>manual_or_automated</th>\n",
       "      <th></th>\n",
       "      <th></th>\n",
       "      <th></th>\n",
       "      <th></th>\n",
       "      <th></th>\n",
       "    </tr>\n",
       "  </thead>\n",
       "  <tbody>\n",
       "    <tr>\n",
       "      <th>5挡 手动</th>\n",
       "      <td>1</td>\n",
       "      <td>33</td>\n",
       "      <td>33</td>\n",
       "      <td>33</td>\n",
       "      <td>33.000000</td>\n",
       "    </tr>\n",
       "    <tr>\n",
       "      <th>8挡 CVT无级变速</th>\n",
       "      <td>5</td>\n",
       "      <td>31</td>\n",
       "      <td>1</td>\n",
       "      <td>8</td>\n",
       "      <td>13.000000</td>\n",
       "    </tr>\n",
       "    <tr>\n",
       "      <th>CVT无级变速</th>\n",
       "      <td>2</td>\n",
       "      <td>16</td>\n",
       "      <td>12</td>\n",
       "      <td>14</td>\n",
       "      <td>14.000000</td>\n",
       "    </tr>\n",
       "    <tr>\n",
       "      <th>手动</th>\n",
       "      <td>36660</td>\n",
       "      <td>196</td>\n",
       "      <td>-77</td>\n",
       "      <td>76</td>\n",
       "      <td>74.867540</td>\n",
       "    </tr>\n",
       "    <tr>\n",
       "      <th>手自一体</th>\n",
       "      <td>358</td>\n",
       "      <td>119</td>\n",
       "      <td>1</td>\n",
       "      <td>29</td>\n",
       "      <td>37.932961</td>\n",
       "    </tr>\n",
       "    <tr>\n",
       "      <th>自动</th>\n",
       "      <td>141185</td>\n",
       "      <td>196</td>\n",
       "      <td>0</td>\n",
       "      <td>40</td>\n",
       "      <td>48.137862</td>\n",
       "    </tr>\n",
       "  </tbody>\n",
       "</table>\n",
       "</div>"
      ],
      "text/plain": [
       "                      count  max  min  median       mean\n",
       "manual_or_automated                                     \n",
       "5挡 手动                1       33   33   33      33.000000\n",
       "8挡 CVT无级变速           5       31   1    8       13.000000\n",
       "CVT无级变速              2       16   12   14      14.000000\n",
       "手动                   36660   196 -77   76      74.867540\n",
       "手自一体                 358     119  1    29      37.932961\n",
       "自动                   141185  196  0    40      48.137862"
      ]
     },
     "execution_count": 220,
     "metadata": {},
     "output_type": "execute_result"
    }
   ],
   "source": [
    "df.groupby('manual_or_automated').age_month.agg(['count','max','min','median','mean'])"
   ]
  },
  {
   "cell_type": "code",
   "execution_count": 221,
   "metadata": {},
   "outputs": [
    {
     "data": {
      "image/png": "[encoded data removed]",
      "text/plain": [
       "<Figure size 432x288 with 1 Axes>"
      ]
     },
     "metadata": {
      "needs_background": "light"
     },
     "output_type": "display_data"
    }
   ],
   "source": [
    "print '------ 车龄vs手自动 ------'  \n",
    "d2 = df[(df.manual_or_automated == '自动' )|( df.manual_or_automated == '手动')]\n",
    "df.manual_or_automated.unique()\n",
    "d2.groupby('manual_or_automated').age_month.agg(['max','min','median','mean'])\n",
    "d2.groupby('manual_or_automated').age_month.median().plot(kind = 'bar')\n",
    "plt.show()\n",
    "print ''"
   ]
  },
  {
   "cell_type": "code",
   "execution_count": 222,
   "metadata": {},
   "outputs": [
    {
     "data": {
      "image/png": "[encoded data removed]",
      "text/plain": [
       "<Figure size 432x288 with 1 Axes>"
      ]
     },
     "metadata": {
      "needs_background": "light"
     },
     "output_type": "display_data"
    }
   ],
   "source": [
    "print '------ 行驶里程vs手自动 ------'  \n",
    "d2.groupby('manual_or_automated').miles.median().plot(kind = 'bar')\n",
    "plt.show()"
   ]
  },
  {
   "cell_type": "code",
   "execution_count": 223,
   "metadata": {},
   "outputs": [],
   "source": [
    "d_color_count = df.color.value_counts()\n",
    "d_color_mile = df.groupby('color').miles.median()\n",
    "d_color_age = df.groupby('color').age_month.median()"
   ]
  },
  {
   "cell_type": "code",
   "execution_count": 224,
   "metadata": {},
   "outputs": [],
   "source": [
    "d_col_count_age = pd.concat([d_color_count,d_color_age],axis = 1 ,join='inner')"
   ]
  },
  {
   "cell_type": "code",
   "execution_count": 225,
   "metadata": {},
   "outputs": [
    {
     "data": {
      "image/png": "[encoded data removed]",
      "text/plain": [
       "<Figure size 432x288 with 2 Axes>"
      ]
     },
     "metadata": {
      "needs_background": "light"
     },
     "output_type": "display_data"
    }
   ],
   "source": [
    "fig, ax1 = plt.subplots()\n",
    "\n",
    "ax2 = ax1.twinx()\n",
    "ax1.plot(d_col_count_age.index, d_col_count_age.color, 'red')\n",
    "ax2.plot(d_col_count_age.index, d_col_count_age.age_month, 'green')\n",
    "\n",
    "ax1.set_xlabel('color')\n",
    "ax1.set_ylabel('count', color='red')\n",
    "ax2.set_ylabel('age_month', color='green')\n",
    "\n",
    "plt.show()"
   ]
  },
  {
   "cell_type": "code",
   "execution_count": 226,
   "metadata": {},
   "outputs": [
    {
     "data": {
      "text/html": [
       "<div>\n",
       "<style scoped>\n",
       "    .dataframe tbody tr th:only-of-type {\n",
       "        vertical-align: middle;\n",
       "    }\n",
       "\n",
       "    .dataframe tbody tr th {\n",
       "        vertical-align: top;\n",
       "    }\n",
       "\n",
       "    .dataframe thead tr th {\n",
       "        text-align: left;\n",
       "    }\n",
       "\n",
       "    .dataframe thead tr:last-of-type th {\n",
       "        text-align: right;\n",
       "    }\n",
       "</style>\n",
       "<table border=\"1\" class=\"dataframe\">\n",
       "  <thead>\n",
       "    <tr>\n",
       "      <th></th>\n",
       "      <th colspan=\"2\" halign=\"left\">count</th>\n",
       "      <th colspan=\"2\" halign=\"left\">median</th>\n",
       "    </tr>\n",
       "    <tr>\n",
       "      <th>manual_or_automated</th>\n",
       "      <th>手动</th>\n",
       "      <th>自动</th>\n",
       "      <th>手动</th>\n",
       "      <th>自动</th>\n",
       "    </tr>\n",
       "    <tr>\n",
       "      <th>color</th>\n",
       "      <th></th>\n",
       "      <th></th>\n",
       "      <th></th>\n",
       "      <th></th>\n",
       "    </tr>\n",
       "  </thead>\n",
       "  <tbody>\n",
       "    <tr>\n",
       "      <th>棕</th>\n",
       "      <td>191.0</td>\n",
       "      <td>1758.0</td>\n",
       "      <td>52.0</td>\n",
       "      <td>43.0</td>\n",
       "    </tr>\n",
       "    <tr>\n",
       "      <th>橙</th>\n",
       "      <td>10.0</td>\n",
       "      <td>33.0</td>\n",
       "      <td>112.0</td>\n",
       "      <td>45.0</td>\n",
       "    </tr>\n",
       "    <tr>\n",
       "      <th>灰</th>\n",
       "      <td>7565.0</td>\n",
       "      <td>24231.0</td>\n",
       "      <td>84.0</td>\n",
       "      <td>59.0</td>\n",
       "    </tr>\n",
       "    <tr>\n",
       "      <th>白</th>\n",
       "      <td>8193.0</td>\n",
       "      <td>60398.0</td>\n",
       "      <td>58.0</td>\n",
       "      <td>29.0</td>\n",
       "    </tr>\n",
       "    <tr>\n",
       "      <th>米</th>\n",
       "      <td>NaN</td>\n",
       "      <td>3.0</td>\n",
       "      <td>NaN</td>\n",
       "      <td>23.0</td>\n",
       "    </tr>\n",
       "    <tr>\n",
       "      <th>紫</th>\n",
       "      <td>18.0</td>\n",
       "      <td>63.0</td>\n",
       "      <td>114.5</td>\n",
       "      <td>51.0</td>\n",
       "    </tr>\n",
       "    <tr>\n",
       "      <th>红</th>\n",
       "      <td>835.0</td>\n",
       "      <td>6892.0</td>\n",
       "      <td>85.0</td>\n",
       "      <td>66.0</td>\n",
       "    </tr>\n",
       "    <tr>\n",
       "      <th>绿</th>\n",
       "      <td>13.0</td>\n",
       "      <td>23.0</td>\n",
       "      <td>116.0</td>\n",
       "      <td>45.0</td>\n",
       "    </tr>\n",
       "    <tr>\n",
       "      <th>蓝</th>\n",
       "      <td>135.0</td>\n",
       "      <td>1388.0</td>\n",
       "      <td>105.0</td>\n",
       "      <td>24.0</td>\n",
       "    </tr>\n",
       "    <tr>\n",
       "      <th>褐</th>\n",
       "      <td>4.0</td>\n",
       "      <td>30.0</td>\n",
       "      <td>53.0</td>\n",
       "      <td>50.0</td>\n",
       "    </tr>\n",
       "    <tr>\n",
       "      <th>金</th>\n",
       "      <td>209.0</td>\n",
       "      <td>2000.0</td>\n",
       "      <td>93.0</td>\n",
       "      <td>27.5</td>\n",
       "    </tr>\n",
       "    <tr>\n",
       "      <th>银</th>\n",
       "      <td>4450.0</td>\n",
       "      <td>11015.0</td>\n",
       "      <td>81.0</td>\n",
       "      <td>64.0</td>\n",
       "    </tr>\n",
       "    <tr>\n",
       "      <th>黄</th>\n",
       "      <td>25.0</td>\n",
       "      <td>60.0</td>\n",
       "      <td>113.0</td>\n",
       "      <td>105.5</td>\n",
       "    </tr>\n",
       "    <tr>\n",
       "      <th>黑</th>\n",
       "      <td>10062.0</td>\n",
       "      <td>18030.0</td>\n",
       "      <td>83.0</td>\n",
       "      <td>64.0</td>\n",
       "    </tr>\n",
       "  </tbody>\n",
       "</table>\n",
       "</div>"
      ],
      "text/plain": [
       "                       count          median       \n",
       "manual_or_automated       手动       自动     手动     自动\n",
       "color                                              \n",
       "棕                    191.0    1758.0   52.0   43.0 \n",
       "橙                    10.0     33.0     112.0  45.0 \n",
       "灰                    7565.0   24231.0  84.0   59.0 \n",
       "白                    8193.0   60398.0  58.0   29.0 \n",
       "米                   NaN       3.0     NaN     23.0 \n",
       "紫                    18.0     63.0     114.5  51.0 \n",
       "红                    835.0    6892.0   85.0   66.0 \n",
       "绿                    13.0     23.0     116.0  45.0 \n",
       "蓝                    135.0    1388.0   105.0  24.0 \n",
       "褐                    4.0      30.0     53.0   50.0 \n",
       "金                    209.0    2000.0   93.0   27.5 \n",
       "银                    4450.0   11015.0  81.0   64.0 \n",
       "黄                    25.0     60.0     113.0  105.5\n",
       "黑                    10062.0  18030.0  83.0   64.0 "
      ]
     },
     "execution_count": 226,
     "metadata": {},
     "output_type": "execute_result"
    }
   ],
   "source": [
    "d2.groupby(['color','manual_or_automated']).age_month.agg(['count','median']).unstack()"
   ]
  },
  {
   "cell_type": "markdown",
   "metadata": {},
   "source": [
    "## Step 5: Final Clean and output"
   ]
  },
  {
   "cell_type": "code",
   "execution_count": 424,
   "metadata": {},
   "outputs": [],
   "source": [
    "df = pd.read_csv('corolla_2006_2019_v2.csv',low_memory = False)\n",
    "df_vf = df.copy()"
   ]
  },
  {
   "cell_type": "code",
   "execution_count": 425,
   "metadata": {},
   "outputs": [],
   "source": [
    "# 将color的灰变成银色\n",
    "df_vf.color.replace('灰','银',inplace = True)\n",
    "\n",
    "# remove出%低的颜色\n",
    "df_vf = df_vf[df_vf.color.isin(['白','银','黑','金','棕' ])]"
   ]
  },
  {
   "cell_type": "code",
   "execution_count": 426,
   "metadata": {},
   "outputs": [],
   "source": [
    "# age_month >0\n",
    "df_vf = df_vf[df_vf.age_month >= 0]"
   ]
  },
  {
   "cell_type": "code",
   "execution_count": 427,
   "metadata": {},
   "outputs": [],
   "source": [
    "# miles <=25\n",
    "df_vf = df_vf[df_vf.miles <= 25]"
   ]
  },
  {
   "cell_type": "code",
   "execution_count": 428,
   "metadata": {},
   "outputs": [],
   "source": [
    "# model year > 0\n",
    "df_vf = df_vf[df_vf.model_year > 0]"
   ]
  },
  {
   "cell_type": "code",
   "execution_count": 429,
   "metadata": {},
   "outputs": [],
   "source": [
    "# add age_year\n",
    "df_vf['age_year'] = (pd.to_datetime(df_vf.publish_date) - pd.to_datetime(df_vf.plate_date))/np.timedelta64(1, 'Y')\n",
    "df_vf['age_year'] = df_vf.age_year.astype('int')"
   ]
  },
  {
   "cell_type": "code",
   "execution_count": 430,
   "metadata": {},
   "outputs": [],
   "source": [
    "# add age_year < 15K\n",
    "df_vf = df_vf[df_vf.final_price <= 15.00]"
   ]
  },
  {
   "cell_type": "code",
   "execution_count": 431,
   "metadata": {},
   "outputs": [],
   "source": [
    "# choose 手动，自动\n",
    "df_vf = df_vf[df_vf.manual_or_automated.isin(['手动','自动'])]"
   ]
  },
  {
   "cell_type": "code",
   "execution_count": 432,
   "metadata": {},
   "outputs": [],
   "source": [
    "# 周转天数 0~120天\n",
    "df_vf = df_vf[(df_vf.date_on_market >= 0) & (df_vf.date_on_market <= 120)]"
   ]
  },
  {
   "cell_type": "code",
   "execution_count": 433,
   "metadata": {},
   "outputs": [
    {
     "data": {
      "text/html": [
       "<div>\n",
       "<style scoped>\n",
       "    .dataframe tbody tr th:only-of-type {\n",
       "        vertical-align: middle;\n",
       "    }\n",
       "\n",
       "    .dataframe tbody tr th {\n",
       "        vertical-align: top;\n",
       "    }\n",
       "\n",
       "    .dataframe thead th {\n",
       "        text-align: right;\n",
       "    }\n",
       "</style>\n",
       "<table border=\"1\" class=\"dataframe\">\n",
       "  <thead>\n",
       "    <tr style=\"text-align: right;\">\n",
       "      <th></th>\n",
       "      <th>Unnamed: 0</th>\n",
       "      <th>Unnamed: 0.1</th>\n",
       "      <th>att_if_CVT</th>\n",
       "      <th>att_if_GL</th>\n",
       "      <th>att_if_hybrid</th>\n",
       "      <th>att_if_update</th>\n",
       "      <th>att_internal_material</th>\n",
       "      <th>att_liter</th>\n",
       "      <th>att_make</th>\n",
       "      <th>att_model_name</th>\n",
       "      <th>att_trim_1</th>\n",
       "      <th>att_trim_2</th>\n",
       "      <th>id</th>\n",
       "      <th>city</th>\n",
       "      <th>auto_full_name</th>\n",
       "      <th>model_year</th>\n",
       "      <th>source</th>\n",
       "      <th>publish_date</th>\n",
       "      <th>sale_date</th>\n",
       "      <th>date_on_market</th>\n",
       "      <th>final_price</th>\n",
       "      <th>original_price</th>\n",
       "      <th>color</th>\n",
       "      <th>miles</th>\n",
       "      <th>manual_or_automated</th>\n",
       "      <th>plate_date</th>\n",
       "      <th>plate_year</th>\n",
       "      <th>age_month</th>\n",
       "      <th>price_adj</th>\n",
       "      <th>age_year</th>\n",
       "    </tr>\n",
       "  </thead>\n",
       "  <tbody>\n",
       "    <tr>\n",
       "      <th>count</th>\n",
       "      <td>149476.000000</td>\n",
       "      <td>149476.000000</td>\n",
       "      <td>65054</td>\n",
       "      <td>140832</td>\n",
       "      <td>4038</td>\n",
       "      <td>6946</td>\n",
       "      <td>4784</td>\n",
       "      <td>111589</td>\n",
       "      <td>149476</td>\n",
       "      <td>149476</td>\n",
       "      <td>147676</td>\n",
       "      <td>32542</td>\n",
       "      <td>1.494760e+05</td>\n",
       "      <td>149476</td>\n",
       "      <td>149476</td>\n",
       "      <td>149476.000000</td>\n",
       "      <td>149476</td>\n",
       "      <td>149476</td>\n",
       "      <td>149476</td>\n",
       "      <td>149476.000000</td>\n",
       "      <td>149476.000000</td>\n",
       "      <td>124542.000000</td>\n",
       "      <td>149476</td>\n",
       "      <td>149476.000000</td>\n",
       "      <td>149476</td>\n",
       "      <td>149476</td>\n",
       "      <td>149476.000000</td>\n",
       "      <td>149476.000000</td>\n",
       "      <td>149476.000000</td>\n",
       "      <td>149476.000000</td>\n",
       "    </tr>\n",
       "    <tr>\n",
       "      <th>unique</th>\n",
       "      <td>NaN</td>\n",
       "      <td>NaN</td>\n",
       "      <td>80</td>\n",
       "      <td>2887</td>\n",
       "      <td>2</td>\n",
       "      <td>16</td>\n",
       "      <td>42</td>\n",
       "      <td>74</td>\n",
       "      <td>1</td>\n",
       "      <td>1</td>\n",
       "      <td>147</td>\n",
       "      <td>512</td>\n",
       "      <td>NaN</td>\n",
       "      <td>678</td>\n",
       "      <td>15135</td>\n",
       "      <td>NaN</td>\n",
       "      <td>3</td>\n",
       "      <td>142335</td>\n",
       "      <td>141232</td>\n",
       "      <td>NaN</td>\n",
       "      <td>NaN</td>\n",
       "      <td>NaN</td>\n",
       "      <td>5</td>\n",
       "      <td>NaN</td>\n",
       "      <td>2</td>\n",
       "      <td>202</td>\n",
       "      <td>NaN</td>\n",
       "      <td>NaN</td>\n",
       "      <td>NaN</td>\n",
       "      <td>NaN</td>\n",
       "    </tr>\n",
       "    <tr>\n",
       "      <th>top</th>\n",
       "      <td>NaN</td>\n",
       "      <td>NaN</td>\n",
       "      <td>CVT</td>\n",
       "      <td>GL</td>\n",
       "      <td>双擎</td>\n",
       "      <td>改款</td>\n",
       "      <td>i真皮版</td>\n",
       "      <td>1.6L</td>\n",
       "      <td>Toyota</td>\n",
       "      <td>Corolla</td>\n",
       "      <td>2014款</td>\n",
       "      <td>特装版</td>\n",
       "      <td>NaN</td>\n",
       "      <td>东莞</td>\n",
       "      <td>丰田 卡罗拉 2014款 1.6L CVT GL</td>\n",
       "      <td>NaN</td>\n",
       "      <td>商户车源</td>\n",
       "      <td>2017-07-03 00:00:00</td>\n",
       "      <td>2017-03-03 00:23:57</td>\n",
       "      <td>NaN</td>\n",
       "      <td>NaN</td>\n",
       "      <td>NaN</td>\n",
       "      <td>白</td>\n",
       "      <td>NaN</td>\n",
       "      <td>自动</td>\n",
       "      <td>2016-01-01 00:00:00</td>\n",
       "      <td>NaN</td>\n",
       "      <td>NaN</td>\n",
       "      <td>NaN</td>\n",
       "      <td>NaN</td>\n",
       "    </tr>\n",
       "    <tr>\n",
       "      <th>freq</th>\n",
       "      <td>NaN</td>\n",
       "      <td>NaN</td>\n",
       "      <td>57655</td>\n",
       "      <td>61732</td>\n",
       "      <td>4037</td>\n",
       "      <td>4548</td>\n",
       "      <td>3383</td>\n",
       "      <td>75360</td>\n",
       "      <td>149476</td>\n",
       "      <td>149476</td>\n",
       "      <td>46302</td>\n",
       "      <td>8196</td>\n",
       "      <td>NaN</td>\n",
       "      <td>10664</td>\n",
       "      <td>7768</td>\n",
       "      <td>NaN</td>\n",
       "      <td>127501</td>\n",
       "      <td>8</td>\n",
       "      <td>6</td>\n",
       "      <td>NaN</td>\n",
       "      <td>NaN</td>\n",
       "      <td>NaN</td>\n",
       "      <td>69585</td>\n",
       "      <td>NaN</td>\n",
       "      <td>118473</td>\n",
       "      <td>2894</td>\n",
       "      <td>NaN</td>\n",
       "      <td>NaN</td>\n",
       "      <td>NaN</td>\n",
       "      <td>NaN</td>\n",
       "    </tr>\n",
       "    <tr>\n",
       "      <th>mean</th>\n",
       "      <td>92875.040348</td>\n",
       "      <td>92875.040348</td>\n",
       "      <td>NaN</td>\n",
       "      <td>NaN</td>\n",
       "      <td>NaN</td>\n",
       "      <td>NaN</td>\n",
       "      <td>NaN</td>\n",
       "      <td>NaN</td>\n",
       "      <td>NaN</td>\n",
       "      <td>NaN</td>\n",
       "      <td>NaN</td>\n",
       "      <td>NaN</td>\n",
       "      <td>1.772773e+08</td>\n",
       "      <td>NaN</td>\n",
       "      <td>NaN</td>\n",
       "      <td>2012.575885</td>\n",
       "      <td>NaN</td>\n",
       "      <td>NaN</td>\n",
       "      <td>NaN</td>\n",
       "      <td>17.499692</td>\n",
       "      <td>8.057484</td>\n",
       "      <td>8.040413</td>\n",
       "      <td>NaN</td>\n",
       "      <td>5.585725</td>\n",
       "      <td>NaN</td>\n",
       "      <td>NaN</td>\n",
       "      <td>2013.118661</td>\n",
       "      <td>53.180464</td>\n",
       "      <td>0.008142</td>\n",
       "      <td>3.969734</td>\n",
       "    </tr>\n",
       "    <tr>\n",
       "      <th>std</th>\n",
       "      <td>54810.412879</td>\n",
       "      <td>54810.412879</td>\n",
       "      <td>NaN</td>\n",
       "      <td>NaN</td>\n",
       "      <td>NaN</td>\n",
       "      <td>NaN</td>\n",
       "      <td>NaN</td>\n",
       "      <td>NaN</td>\n",
       "      <td>NaN</td>\n",
       "      <td>NaN</td>\n",
       "      <td>NaN</td>\n",
       "      <td>NaN</td>\n",
       "      <td>3.165945e+07</td>\n",
       "      <td>NaN</td>\n",
       "      <td>NaN</td>\n",
       "      <td>2.941943</td>\n",
       "      <td>NaN</td>\n",
       "      <td>NaN</td>\n",
       "      <td>NaN</td>\n",
       "      <td>17.087364</td>\n",
       "      <td>2.253194</td>\n",
       "      <td>2.204070</td>\n",
       "      <td>NaN</td>\n",
       "      <td>3.615083</td>\n",
       "      <td>NaN</td>\n",
       "      <td>NaN</td>\n",
       "      <td>2.963666</td>\n",
       "      <td>33.751116</td>\n",
       "      <td>0.139415</td>\n",
       "      <td>2.826005</td>\n",
       "    </tr>\n",
       "    <tr>\n",
       "      <th>min</th>\n",
       "      <td>0.000000</td>\n",
       "      <td>0.000000</td>\n",
       "      <td>NaN</td>\n",
       "      <td>NaN</td>\n",
       "      <td>NaN</td>\n",
       "      <td>NaN</td>\n",
       "      <td>NaN</td>\n",
       "      <td>NaN</td>\n",
       "      <td>NaN</td>\n",
       "      <td>NaN</td>\n",
       "      <td>NaN</td>\n",
       "      <td>NaN</td>\n",
       "      <td>8.538924e+07</td>\n",
       "      <td>NaN</td>\n",
       "      <td>NaN</td>\n",
       "      <td>2006.000000</td>\n",
       "      <td>NaN</td>\n",
       "      <td>NaN</td>\n",
       "      <td>NaN</td>\n",
       "      <td>0.000000</td>\n",
       "      <td>0.600000</td>\n",
       "      <td>0.680000</td>\n",
       "      <td>NaN</td>\n",
       "      <td>0.000000</td>\n",
       "      <td>NaN</td>\n",
       "      <td>NaN</td>\n",
       "      <td>2000.000000</td>\n",
       "      <td>0.000000</td>\n",
       "      <td>-6.330000</td>\n",
       "      <td>0.000000</td>\n",
       "    </tr>\n",
       "    <tr>\n",
       "      <th>25%</th>\n",
       "      <td>45514.750000</td>\n",
       "      <td>45514.750000</td>\n",
       "      <td>NaN</td>\n",
       "      <td>NaN</td>\n",
       "      <td>NaN</td>\n",
       "      <td>NaN</td>\n",
       "      <td>NaN</td>\n",
       "      <td>NaN</td>\n",
       "      <td>NaN</td>\n",
       "      <td>NaN</td>\n",
       "      <td>NaN</td>\n",
       "      <td>NaN</td>\n",
       "      <td>1.506344e+08</td>\n",
       "      <td>NaN</td>\n",
       "      <td>NaN</td>\n",
       "      <td>2011.000000</td>\n",
       "      <td>NaN</td>\n",
       "      <td>NaN</td>\n",
       "      <td>NaN</td>\n",
       "      <td>3.000000</td>\n",
       "      <td>6.400000</td>\n",
       "      <td>6.440000</td>\n",
       "      <td>NaN</td>\n",
       "      <td>2.800000</td>\n",
       "      <td>NaN</td>\n",
       "      <td>NaN</td>\n",
       "      <td>2011.000000</td>\n",
       "      <td>25.000000</td>\n",
       "      <td>0.000000</td>\n",
       "      <td>2.000000</td>\n",
       "    </tr>\n",
       "    <tr>\n",
       "      <th>50%</th>\n",
       "      <td>89888.000000</td>\n",
       "      <td>89888.000000</td>\n",
       "      <td>NaN</td>\n",
       "      <td>NaN</td>\n",
       "      <td>NaN</td>\n",
       "      <td>NaN</td>\n",
       "      <td>NaN</td>\n",
       "      <td>NaN</td>\n",
       "      <td>NaN</td>\n",
       "      <td>NaN</td>\n",
       "      <td>NaN</td>\n",
       "      <td>NaN</td>\n",
       "      <td>1.838111e+08</td>\n",
       "      <td>NaN</td>\n",
       "      <td>NaN</td>\n",
       "      <td>2013.000000</td>\n",
       "      <td>NaN</td>\n",
       "      <td>NaN</td>\n",
       "      <td>NaN</td>\n",
       "      <td>14.000000</td>\n",
       "      <td>8.210000</td>\n",
       "      <td>8.200000</td>\n",
       "      <td>NaN</td>\n",
       "      <td>5.000000</td>\n",
       "      <td>NaN</td>\n",
       "      <td>NaN</td>\n",
       "      <td>2014.000000</td>\n",
       "      <td>45.000000</td>\n",
       "      <td>0.000000</td>\n",
       "      <td>3.000000</td>\n",
       "    </tr>\n",
       "    <tr>\n",
       "      <th>75%</th>\n",
       "      <td>138681.250000</td>\n",
       "      <td>138681.250000</td>\n",
       "      <td>NaN</td>\n",
       "      <td>NaN</td>\n",
       "      <td>NaN</td>\n",
       "      <td>NaN</td>\n",
       "      <td>NaN</td>\n",
       "      <td>NaN</td>\n",
       "      <td>NaN</td>\n",
       "      <td>NaN</td>\n",
       "      <td>NaN</td>\n",
       "      <td>NaN</td>\n",
       "      <td>2.044768e+08</td>\n",
       "      <td>NaN</td>\n",
       "      <td>NaN</td>\n",
       "      <td>2014.000000</td>\n",
       "      <td>NaN</td>\n",
       "      <td>NaN</td>\n",
       "      <td>NaN</td>\n",
       "      <td>26.000000</td>\n",
       "      <td>9.600000</td>\n",
       "      <td>9.580000</td>\n",
       "      <td>NaN</td>\n",
       "      <td>8.000000</td>\n",
       "      <td>NaN</td>\n",
       "      <td>NaN</td>\n",
       "      <td>2016.000000</td>\n",
       "      <td>78.000000</td>\n",
       "      <td>0.000000</td>\n",
       "      <td>6.000000</td>\n",
       "    </tr>\n",
       "    <tr>\n",
       "      <th>max</th>\n",
       "      <td>193069.000000</td>\n",
       "      <td>193069.000000</td>\n",
       "      <td>NaN</td>\n",
       "      <td>NaN</td>\n",
       "      <td>NaN</td>\n",
       "      <td>NaN</td>\n",
       "      <td>NaN</td>\n",
       "      <td>NaN</td>\n",
       "      <td>NaN</td>\n",
       "      <td>NaN</td>\n",
       "      <td>NaN</td>\n",
       "      <td>NaN</td>\n",
       "      <td>2.169587e+08</td>\n",
       "      <td>NaN</td>\n",
       "      <td>NaN</td>\n",
       "      <td>2019.000000</td>\n",
       "      <td>NaN</td>\n",
       "      <td>NaN</td>\n",
       "      <td>NaN</td>\n",
       "      <td>120.000000</td>\n",
       "      <td>15.000000</td>\n",
       "      <td>16.380000</td>\n",
       "      <td>NaN</td>\n",
       "      <td>25.000000</td>\n",
       "      <td>NaN</td>\n",
       "      <td>NaN</td>\n",
       "      <td>2019.000000</td>\n",
       "      <td>196.000000</td>\n",
       "      <td>9.580000</td>\n",
       "      <td>16.000000</td>\n",
       "    </tr>\n",
       "  </tbody>\n",
       "</table>\n",
       "</div>"
      ],
      "text/plain": [
       "           Unnamed: 0   Unnamed: 0.1 att_if_CVT att_if_GL att_if_hybrid  \\\n",
       "count   149476.000000  149476.000000  65054      140832    4038           \n",
       "unique NaN            NaN             80         2887      2              \n",
       "top    NaN            NaN             CVT        GL        双擎             \n",
       "freq   NaN            NaN             57655      61732     4037           \n",
       "mean    92875.040348   92875.040348   NaN        NaN       NaN            \n",
       "std     54810.412879   54810.412879   NaN        NaN       NaN            \n",
       "min     0.000000       0.000000       NaN        NaN       NaN            \n",
       "25%     45514.750000   45514.750000   NaN        NaN       NaN            \n",
       "50%     89888.000000   89888.000000   NaN        NaN       NaN            \n",
       "75%     138681.250000  138681.250000  NaN        NaN       NaN            \n",
       "max     193069.000000  193069.000000  NaN        NaN       NaN            \n",
       "\n",
       "       att_if_update att_internal_material att_liter att_make att_model_name  \\\n",
       "count   6946          4784                  111589    149476   149476          \n",
       "unique  16            42                    74        1        1               \n",
       "top     改款            i真皮版                  1.6L      Toyota   Corolla         \n",
       "freq    4548          3383                  75360     149476   149476          \n",
       "mean    NaN           NaN                   NaN       NaN      NaN             \n",
       "std     NaN           NaN                   NaN       NaN      NaN             \n",
       "min     NaN           NaN                   NaN       NaN      NaN             \n",
       "25%     NaN           NaN                   NaN       NaN      NaN             \n",
       "50%     NaN           NaN                   NaN       NaN      NaN             \n",
       "75%     NaN           NaN                   NaN       NaN      NaN             \n",
       "max     NaN           NaN                   NaN       NaN      NaN             \n",
       "\n",
       "       att_trim_1 att_trim_2            id    city            auto_full_name  \\\n",
       "count   147676     32542      1.494760e+05  149476  149476                     \n",
       "unique  147        512       NaN            678     15135                      \n",
       "top     2014款      特装版       NaN            东莞      丰田 卡罗拉 2014款 1.6L CVT GL   \n",
       "freq    46302      8196      NaN            10664   7768                       \n",
       "mean    NaN        NaN        1.772773e+08  NaN     NaN                        \n",
       "std     NaN        NaN        3.165945e+07  NaN     NaN                        \n",
       "min     NaN        NaN        8.538924e+07  NaN     NaN                        \n",
       "25%     NaN        NaN        1.506344e+08  NaN     NaN                        \n",
       "50%     NaN        NaN        1.838111e+08  NaN     NaN                        \n",
       "75%     NaN        NaN        2.044768e+08  NaN     NaN                        \n",
       "max     NaN        NaN        2.169587e+08  NaN     NaN                        \n",
       "\n",
       "           model_year  source         publish_date            sale_date  \\\n",
       "count   149476.000000  149476  149476               149476                \n",
       "unique NaN             3       142335               141232                \n",
       "top    NaN             商户车源    2017-07-03 00:00:00  2017-03-03 00:23:57   \n",
       "freq   NaN             127501  8                    6                     \n",
       "mean    2012.575885    NaN     NaN                  NaN                   \n",
       "std     2.941943       NaN     NaN                  NaN                   \n",
       "min     2006.000000    NaN     NaN                  NaN                   \n",
       "25%     2011.000000    NaN     NaN                  NaN                   \n",
       "50%     2013.000000    NaN     NaN                  NaN                   \n",
       "75%     2014.000000    NaN     NaN                  NaN                   \n",
       "max     2019.000000    NaN     NaN                  NaN                   \n",
       "\n",
       "        date_on_market    final_price  original_price   color          miles  \\\n",
       "count   149476.000000   149476.000000  124542.000000   149476  149476.000000   \n",
       "unique NaN             NaN            NaN              5      NaN              \n",
       "top    NaN             NaN            NaN              白      NaN              \n",
       "freq   NaN             NaN            NaN              69585  NaN              \n",
       "mean    17.499692       8.057484       8.040413        NaN     5.585725        \n",
       "std     17.087364       2.253194       2.204070        NaN     3.615083        \n",
       "min     0.000000        0.600000       0.680000        NaN     0.000000        \n",
       "25%     3.000000        6.400000       6.440000        NaN     2.800000        \n",
       "50%     14.000000       8.210000       8.200000        NaN     5.000000        \n",
       "75%     26.000000       9.600000       9.580000        NaN     8.000000        \n",
       "max     120.000000      15.000000      16.380000       NaN     25.000000       \n",
       "\n",
       "       manual_or_automated           plate_date     plate_year      age_month  \\\n",
       "count   149476              149476               149476.000000  149476.000000   \n",
       "unique  2                   202                 NaN            NaN              \n",
       "top     自动                  2016-01-01 00:00:00 NaN            NaN              \n",
       "freq    118473              2894                NaN            NaN              \n",
       "mean    NaN                 NaN                  2013.118661    53.180464       \n",
       "std     NaN                 NaN                  2.963666       33.751116       \n",
       "min     NaN                 NaN                  2000.000000    0.000000        \n",
       "25%     NaN                 NaN                  2011.000000    25.000000       \n",
       "50%     NaN                 NaN                  2014.000000    45.000000       \n",
       "75%     NaN                 NaN                  2016.000000    78.000000       \n",
       "max     NaN                 NaN                  2019.000000    196.000000      \n",
       "\n",
       "            price_adj       age_year  \n",
       "count   149476.000000  149476.000000  \n",
       "unique NaN            NaN             \n",
       "top    NaN            NaN             \n",
       "freq   NaN            NaN             \n",
       "mean    0.008142       3.969734       \n",
       "std     0.139415       2.826005       \n",
       "min    -6.330000       0.000000       \n",
       "25%     0.000000       2.000000       \n",
       "50%     0.000000       3.000000       \n",
       "75%     0.000000       6.000000       \n",
       "max     9.580000       16.000000      "
      ]
     },
     "execution_count": 433,
     "metadata": {},
     "output_type": "execute_result"
    }
   ],
   "source": [
    "df_vf.describe(include = 'all')"
   ]
  },
  {
   "cell_type": "code",
   "execution_count": 434,
   "metadata": {},
   "outputs": [],
   "source": [
    "df_vf.drop(u'Unnamed: 0', axis = 1,inplace = True)"
   ]
  },
  {
   "cell_type": "code",
   "execution_count": 435,
   "metadata": {},
   "outputs": [],
   "source": [
    "city_province_lookup = pd.read_excel('丰田_城市和省_lookup.xlsx', encoding = 'utf-8')"
   ]
  },
  {
   "cell_type": "code",
   "execution_count": 436,
   "metadata": {},
   "outputs": [],
   "source": [
    "# encoding city to utf-9\n",
    "def encode_series(i):\n",
    "    i = unicode(i, \"utf8\", errors=\"ignore\")\n",
    "    return i\n",
    "\n",
    "df_vf['city']= df_vf.city.apply(encode_series)"
   ]
  },
  {
   "cell_type": "code",
   "execution_count": 437,
   "metadata": {},
   "outputs": [],
   "source": [
    "df_vf = df_vf.merge(city_province_lookup,left_on = 'city',right_on = 'city', how = 'inner')"
   ]
  },
  {
   "cell_type": "code",
   "execution_count": 438,
   "metadata": {},
   "outputs": [],
   "source": [
    "df_vf['manual_or_automated'] = df_vf.manual_or_automated.map({'自动':'AT','手动':'MT'})\n",
    "df_vf['color'] = df_vf.color.map({'白':'white','黑':'black','金':'golden','银':'silver','棕':'brown'})\n",
    "df_vf['source'] = df_vf.source.map({'商户车源':'merchandise_source','平台车源':'platform_source','个人车源':'individual_source' })"
   ]
  },
  {
   "cell_type": "code",
   "execution_count": 440,
   "metadata": {},
   "outputs": [],
   "source": [
    "df_vf.to_csv('corolla_2006_2019_v3.csv',encoding = 'utf-8')"
   ]
  },
  {
   "cell_type": "code",
   "execution_count": 404,
   "metadata": {},
   "outputs": [],
   "source": []
  },
  {
   "cell_type": "code",
   "execution_count": null,
   "metadata": {},
   "outputs": [],
   "source": []
  },
  {
   "cell_type": "code",
   "execution_count": null,
   "metadata": {},
   "outputs": [],
   "source": []
  },
  {
   "cell_type": "code",
   "execution_count": null,
   "metadata": {},
   "outputs": [],
   "source": []
  },
  {
   "cell_type": "code",
   "execution_count": null,
   "metadata": {},
   "outputs": [],
   "source": [
    "Task1 ****估测价格 liner regression****\n",
    "#regreesion：piecewise liner\n",
    "price = f(年款*，公里*，MSRP，自动/手动，*省，颜色**，排气量，月份，来源，***地区库存）\n",
    "         \n",
    "feature definition:\n",
    "*省：省¥/全国¥ *100\n",
    "**颜色：省¥/全国¥ *100\n",
    "***颜色：省¥/全国¥ *100           \n",
    "****地区库存（该车发布日期前改地区的库存）  \n",
    "            \n",
    "\n",
    "Variable：\n",
    "1）公里 M1，M2，M3...； （分段）   y-price，x-miles\n",
    "2）年龄 A1，A2，A3...； （分段）\n",
    "\n",
    "Way1:raw data\n",
    "Way2:categorical\n",
    "Way3:index/derive"
   ]
  },
  {
   "cell_type": "code",
   "execution_count": null,
   "metadata": {},
   "outputs": [],
   "source": [
    "Task2 ****预测售价forcaset time series price ****\n",
    "非标准化处理\n",
    "1)model year (model age)\n",
    "\n",
    "标准化处理\n",
    "1）用index price来处理"
   ]
  },
  {
   "cell_type": "code",
   "execution_count": null,
   "metadata": {},
   "outputs": [],
   "source": [
    "Task3 *** RV计算 ****\n",
    "\n",
    "RV rate（t） = 二手车价值/MSRP(t-n)\n",
    "\n",
    "n:车龄\n",
    "t:估值（月）\n",
    "\n",
    "RV =  f(车龄，配置，渠道，*该阶段内是否是改款车，*质量（sentiment index）,设计，地区，月份1～12月，)"
   ]
  },
  {
   "cell_type": "code",
   "execution_count": null,
   "metadata": {},
   "outputs": [],
   "source": []
  },
  {
   "cell_type": "code",
   "execution_count": null,
   "metadata": {},
   "outputs": [],
   "source": []
  },
  {
   "cell_type": "code",
   "execution_count": null,
   "metadata": {},
   "outputs": [],
   "source": []
  }
 ],
 "metadata": {
  "kernelspec": {
   "display_name": "Python 2",
   "language": "python",
   "name": "python2"
  },
  "language_info": {
   "codemirror_mode": {
    "name": "ipython",
    "version": 2
   },
   "file_extension": ".py",
   "mimetype": "text/x-python",
   "name": "python",
   "nbconvert_exporter": "python",
   "pygments_lexer": "ipython2",
   "version": "2.7.15"
  }
 },
 "nbformat": 4,
 "nbformat_minor": 2
}
